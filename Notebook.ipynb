{
 "cells": [
  {
   "cell_type": "code",
   "execution_count": 1,
   "metadata": {
    "colab": {
     "base_uri": "https://localhost:8080/"
    },
    "executionInfo": {
     "elapsed": 31440,
     "status": "ok",
     "timestamp": 1668517094393,
     "user": {
      "displayName": "tru projects",
      "userId": "10140123910494422627"
     },
     "user_tz": -330
    },
    "id": "0glkJzEGgG2F",
    "outputId": "3d2f85c2-b59c-42f7-bba4-4714b308d144"
   },
   "outputs": [
    {
     "name": "stdout",
     "output_type": "stream",
     "text": [
      "Mounted at /content/drive\n"
     ]
    }
   ],
   "source": [
    "from google.colab import drive\n",
    "drive.mount('/content/drive')"
   ]
  },
  {
   "cell_type": "code",
   "execution_count": 2,
   "metadata": {
    "_cell_guid": "b1076dfc-b9ad-4769-8c92-a6c4dae69d19",
    "_uuid": "8f2839f25d086af736a60e9eeb907d3b93b6e0e5",
    "execution": {
     "iopub.execute_input": "2020-11-25T07:01:31.734902Z",
     "iopub.status.busy": "2020-11-25T07:01:31.734136Z",
     "iopub.status.idle": "2020-11-25T07:01:32.805245Z",
     "shell.execute_reply": "2020-11-25T07:01:32.803919Z"
    },
    "executionInfo": {
     "elapsed": 1421,
     "status": "ok",
     "timestamp": 1668517095803,
     "user": {
      "displayName": "tru projects",
      "userId": "10140123910494422627"
     },
     "user_tz": -330
    },
    "id": "UoQmPKaQf4JL",
    "papermill": {
     "duration": 1.10446,
     "end_time": "2020-11-25T07:01:32.805382",
     "exception": false,
     "start_time": "2020-11-25T07:01:31.700922",
     "status": "completed"
    },
    "tags": []
   },
   "outputs": [],
   "source": [
    "import numpy as np\n",
    "import pandas as pd\n",
    "import xml.etree.ElementTree as ET\n",
    "from sklearn.model_selection import train_test_split\n",
    "import matplotlib.pyplot as plt\n",
    "from pathlib import Path\n",
    "import random\n",
    "import os\n",
    "import cv2"
   ]
  },
  {
   "cell_type": "code",
   "execution_count": 3,
   "metadata": {
    "execution": {
     "iopub.execute_input": "2020-11-25T07:01:32.867231Z",
     "iopub.status.busy": "2020-11-25T07:01:32.866431Z",
     "iopub.status.idle": "2020-11-25T07:01:34.295888Z",
     "shell.execute_reply": "2020-11-25T07:01:34.295217Z"
    },
    "executionInfo": {
     "elapsed": 1196,
     "status": "ok",
     "timestamp": 1668517096995,
     "user": {
      "displayName": "tru projects",
      "userId": "10140123910494422627"
     },
     "user_tz": -330
    },
    "id": "jqXAukyMf4JM",
    "papermill": {
     "duration": 1.462926,
     "end_time": "2020-11-25T07:01:34.296029",
     "exception": false,
     "start_time": "2020-11-25T07:01:32.833103",
     "status": "completed"
    },
    "tags": []
   },
   "outputs": [],
   "source": [
    "import torch\n",
    "from torch.utils.data import Dataset, DataLoader\n",
    "import torch.optim as optim\n",
    "import torch.nn as nn\n",
    "import torch.nn.functional as F\n",
    "from torchvision import models"
   ]
  },
  {
   "cell_type": "code",
   "execution_count": 4,
   "metadata": {
    "_cell_guid": "79c7e3d0-c299-4dcb-8224-4455121ee9b0",
    "_uuid": "d629ff2d2480ee46fbb7e2d37f6b5fab8052498a",
    "execution": {
     "iopub.execute_input": "2020-11-25T07:01:34.357402Z",
     "iopub.status.busy": "2020-11-25T07:01:34.356526Z",
     "iopub.status.idle": "2020-11-25T07:01:34.359748Z",
     "shell.execute_reply": "2020-11-25T07:01:34.359248Z"
    },
    "executionInfo": {
     "elapsed": 20,
     "status": "ok",
     "timestamp": 1668517096997,
     "user": {
      "displayName": "tru projects",
      "userId": "10140123910494422627"
     },
     "user_tz": -330
    },
    "id": "DeqTwesJf4JM",
    "papermill": {
     "duration": 0.035247,
     "end_time": "2020-11-25T07:01:34.359851",
     "exception": false,
     "start_time": "2020-11-25T07:01:34.324604",
     "status": "completed"
    },
    "tags": []
   },
   "outputs": [],
   "source": [
    "base_path = '/content/drive/MyDrive/helmet/archive/'\n",
    "ann_path = base_path + 'Annotations/'\n",
    "img_path = base_path + 'Images/'"
   ]
  },
  {
   "cell_type": "markdown",
   "metadata": {
    "id": "zLy4PLH_f4JN",
    "papermill": {
     "duration": 0.027564,
     "end_time": "2020-11-25T07:01:34.415830",
     "exception": false,
     "start_time": "2020-11-25T07:01:34.388266",
     "status": "completed"
    },
    "tags": []
   },
   "source": [
    "# Prepare the Training Dataframe"
   ]
  },
  {
   "cell_type": "code",
   "execution_count": 5,
   "metadata": {
    "execution": {
     "iopub.execute_input": "2020-11-25T07:01:34.478203Z",
     "iopub.status.busy": "2020-11-25T07:01:34.477291Z",
     "iopub.status.idle": "2020-11-25T07:01:34.480506Z",
     "shell.execute_reply": "2020-11-25T07:01:34.479920Z"
    },
    "executionInfo": {
     "elapsed": 19,
     "status": "ok",
     "timestamp": 1668517096998,
     "user": {
      "displayName": "tru projects",
      "userId": "10140123910494422627"
     },
     "user_tz": -330
    },
    "id": "gwB0VYjDf4JN",
    "papermill": {
     "duration": 0.037185,
     "end_time": "2020-11-25T07:01:34.480614",
     "exception": false,
     "start_time": "2020-11-25T07:01:34.443429",
     "status": "completed"
    },
    "tags": []
   },
   "outputs": [],
   "source": [
    "def get_file_list(root, file_type):\n",
    "    return [os.path.join(directory_path, f) for directory_path, directory_name, \n",
    "            files in os.walk(root) for f in files if f.endswith(file_type)]"
   ]
  },
  {
   "cell_type": "code",
   "execution_count": 6,
   "metadata": {
    "execution": {
     "iopub.execute_input": "2020-11-25T07:01:34.548145Z",
     "iopub.status.busy": "2020-11-25T07:01:34.547141Z",
     "iopub.status.idle": "2020-11-25T07:01:34.562961Z",
     "shell.execute_reply": "2020-11-25T07:01:34.564338Z"
    },
    "executionInfo": {
     "elapsed": 18,
     "status": "ok",
     "timestamp": 1668517096998,
     "user": {
      "displayName": "tru projects",
      "userId": "10140123910494422627"
     },
     "user_tz": -330
    },
    "id": "eHS2lrZff4JO",
    "papermill": {
     "duration": 0.056266,
     "end_time": "2020-11-25T07:01:34.564513",
     "exception": false,
     "start_time": "2020-11-25T07:01:34.508247",
     "status": "completed"
    },
    "tags": []
   },
   "outputs": [],
   "source": [
    "def get_train_df(ann_path, img_path):\n",
    "    ann_path_list = get_file_list(ann_path, '.xml')\n",
    "    ann_list = []\n",
    "    for a_path in ann_path_list:\n",
    "        root = ET.parse(a_path).getroot()\n",
    "        ann = {}\n",
    "        ann['filename'] = Path(str(img_path) + '/'+ root.find(\"./filename\").text)\n",
    "        ann['width'] = root.find(\"./size/width\").text\n",
    "        ann['height'] = root.find(\"./size/height\").text\n",
    "        ann['class'] = root.find(\"./object/name\").text\n",
    "        ann['xmin'] = int(root.find(\"./object/bndbox/xmin\").text)\n",
    "        ann['ymin'] = int(root.find(\"./object/bndbox/ymin\").text)\n",
    "        ann['xmax'] = int(root.find(\"./object/bndbox/xmax\").text)\n",
    "        ann['ymax'] = int(root.find(\"./object/bndbox/ymax\").text)\n",
    "        ann_list.append(ann)\n",
    "    return pd.DataFrame(ann_list)"
   ]
  },
  {
   "cell_type": "code",
   "execution_count": 7,
   "metadata": {
    "execution": {
     "iopub.execute_input": "2020-11-25T07:01:34.627656Z",
     "iopub.status.busy": "2020-11-25T07:01:34.626893Z",
     "iopub.status.idle": "2020-11-25T07:01:36.198313Z",
     "shell.execute_reply": "2020-11-25T07:01:36.197600Z"
    },
    "executionInfo": {
     "elapsed": 12031,
     "status": "ok",
     "timestamp": 1668517109013,
     "user": {
      "displayName": "tru projects",
      "userId": "10140123910494422627"
     },
     "user_tz": -330
    },
    "id": "ay9Umf_lf4JO",
    "papermill": {
     "duration": 1.603537,
     "end_time": "2020-11-25T07:01:36.198465",
     "exception": false,
     "start_time": "2020-11-25T07:01:34.594928",
     "status": "completed"
    },
    "tags": []
   },
   "outputs": [],
   "source": [
    "df_train = get_train_df(ann_path, img_path)"
   ]
  },
  {
   "cell_type": "code",
   "execution_count": 8,
   "metadata": {
    "colab": {
     "base_uri": "https://localhost:8080/",
     "height": 424
    },
    "executionInfo": {
     "elapsed": 32,
     "status": "ok",
     "timestamp": 1668517109014,
     "user": {
      "displayName": "tru projects",
      "userId": "10140123910494422627"
     },
     "user_tz": -330
    },
    "id": "KTisyZ0qrTIc",
    "outputId": "3f3bce78-7de4-4d38-a56a-847e61d15ef3"
   },
   "outputs": [
    {
     "data": {
      "text/html": [
       "\n",
       "  <div id=\"df-8cc449dc-27c1-4d4b-8af9-28e417986900\">\n",
       "    <div class=\"colab-df-container\">\n",
       "      <div>\n",
       "<style scoped>\n",
       "    .dataframe tbody tr th:only-of-type {\n",
       "        vertical-align: middle;\n",
       "    }\n",
       "\n",
       "    .dataframe tbody tr th {\n",
       "        vertical-align: top;\n",
       "    }\n",
       "\n",
       "    .dataframe thead th {\n",
       "        text-align: right;\n",
       "    }\n",
       "</style>\n",
       "<table border=\"1\" class=\"dataframe\">\n",
       "  <thead>\n",
       "    <tr style=\"text-align: right;\">\n",
       "      <th></th>\n",
       "      <th>filename</th>\n",
       "      <th>width</th>\n",
       "      <th>height</th>\n",
       "      <th>class</th>\n",
       "      <th>xmin</th>\n",
       "      <th>ymin</th>\n",
       "      <th>xmax</th>\n",
       "      <th>ymax</th>\n",
       "    </tr>\n",
       "  </thead>\n",
       "  <tbody>\n",
       "    <tr>\n",
       "      <th>0</th>\n",
       "      <td>/content/drive/MyDrive/helmet/archive/Images/0...</td>\n",
       "      <td>500</td>\n",
       "      <td>332</td>\n",
       "      <td>white</td>\n",
       "      <td>127</td>\n",
       "      <td>102</td>\n",
       "      <td>169</td>\n",
       "      <td>158</td>\n",
       "    </tr>\n",
       "    <tr>\n",
       "      <th>1</th>\n",
       "      <td>/content/drive/MyDrive/helmet/archive/Images/0...</td>\n",
       "      <td>440</td>\n",
       "      <td>273</td>\n",
       "      <td>yellow</td>\n",
       "      <td>336</td>\n",
       "      <td>136</td>\n",
       "      <td>375</td>\n",
       "      <td>176</td>\n",
       "    </tr>\n",
       "    <tr>\n",
       "      <th>2</th>\n",
       "      <td>/content/drive/MyDrive/helmet/archive/Images/0...</td>\n",
       "      <td>560</td>\n",
       "      <td>314</td>\n",
       "      <td>yellow</td>\n",
       "      <td>1</td>\n",
       "      <td>3</td>\n",
       "      <td>47</td>\n",
       "      <td>68</td>\n",
       "    </tr>\n",
       "    <tr>\n",
       "      <th>3</th>\n",
       "      <td>/content/drive/MyDrive/helmet/archive/Images/0...</td>\n",
       "      <td>1000</td>\n",
       "      <td>665</td>\n",
       "      <td>yellow</td>\n",
       "      <td>218</td>\n",
       "      <td>100</td>\n",
       "      <td>312</td>\n",
       "      <td>211</td>\n",
       "    </tr>\n",
       "    <tr>\n",
       "      <th>4</th>\n",
       "      <td>/content/drive/MyDrive/helmet/archive/Images/0...</td>\n",
       "      <td>572</td>\n",
       "      <td>400</td>\n",
       "      <td>blue</td>\n",
       "      <td>248</td>\n",
       "      <td>101</td>\n",
       "      <td>353</td>\n",
       "      <td>224</td>\n",
       "    </tr>\n",
       "    <tr>\n",
       "      <th>...</th>\n",
       "      <td>...</td>\n",
       "      <td>...</td>\n",
       "      <td>...</td>\n",
       "      <td>...</td>\n",
       "      <td>...</td>\n",
       "      <td>...</td>\n",
       "      <td>...</td>\n",
       "      <td>...</td>\n",
       "    </tr>\n",
       "    <tr>\n",
       "      <th>494</th>\n",
       "      <td>/content/drive/MyDrive/helmet/archive/Images/0...</td>\n",
       "      <td>640</td>\n",
       "      <td>579</td>\n",
       "      <td>yellow</td>\n",
       "      <td>483</td>\n",
       "      <td>59</td>\n",
       "      <td>555</td>\n",
       "      <td>138</td>\n",
       "    </tr>\n",
       "    <tr>\n",
       "      <th>495</th>\n",
       "      <td>/content/drive/MyDrive/helmet/archive/Images/0...</td>\n",
       "      <td>507</td>\n",
       "      <td>320</td>\n",
       "      <td>white</td>\n",
       "      <td>232</td>\n",
       "      <td>25</td>\n",
       "      <td>367</td>\n",
       "      <td>214</td>\n",
       "    </tr>\n",
       "    <tr>\n",
       "      <th>496</th>\n",
       "      <td>/content/drive/MyDrive/helmet/archive/Images/0...</td>\n",
       "      <td>1024</td>\n",
       "      <td>683</td>\n",
       "      <td>white</td>\n",
       "      <td>308</td>\n",
       "      <td>220</td>\n",
       "      <td>347</td>\n",
       "      <td>260</td>\n",
       "    </tr>\n",
       "    <tr>\n",
       "      <th>497</th>\n",
       "      <td>/content/drive/MyDrive/helmet/archive/Images/0...</td>\n",
       "      <td>1024</td>\n",
       "      <td>682</td>\n",
       "      <td>blue</td>\n",
       "      <td>133</td>\n",
       "      <td>376</td>\n",
       "      <td>249</td>\n",
       "      <td>514</td>\n",
       "    </tr>\n",
       "    <tr>\n",
       "      <th>498</th>\n",
       "      <td>/content/drive/MyDrive/helmet/archive/Images/0...</td>\n",
       "      <td>800</td>\n",
       "      <td>394</td>\n",
       "      <td>blue</td>\n",
       "      <td>118</td>\n",
       "      <td>67</td>\n",
       "      <td>168</td>\n",
       "      <td>126</td>\n",
       "    </tr>\n",
       "  </tbody>\n",
       "</table>\n",
       "<p>499 rows × 8 columns</p>\n",
       "</div>\n",
       "      <button class=\"colab-df-convert\" onclick=\"convertToInteractive('df-8cc449dc-27c1-4d4b-8af9-28e417986900')\"\n",
       "              title=\"Convert this dataframe to an interactive table.\"\n",
       "              style=\"display:none;\">\n",
       "        \n",
       "  <svg xmlns=\"http://www.w3.org/2000/svg\" height=\"24px\"viewBox=\"0 0 24 24\"\n",
       "       width=\"24px\">\n",
       "    <path d=\"M0 0h24v24H0V0z\" fill=\"none\"/>\n",
       "    <path d=\"M18.56 5.44l.94 2.06.94-2.06 2.06-.94-2.06-.94-.94-2.06-.94 2.06-2.06.94zm-11 1L8.5 8.5l.94-2.06 2.06-.94-2.06-.94L8.5 2.5l-.94 2.06-2.06.94zm10 10l.94 2.06.94-2.06 2.06-.94-2.06-.94-.94-2.06-.94 2.06-2.06.94z\"/><path d=\"M17.41 7.96l-1.37-1.37c-.4-.4-.92-.59-1.43-.59-.52 0-1.04.2-1.43.59L10.3 9.45l-7.72 7.72c-.78.78-.78 2.05 0 2.83L4 21.41c.39.39.9.59 1.41.59.51 0 1.02-.2 1.41-.59l7.78-7.78 2.81-2.81c.8-.78.8-2.07 0-2.86zM5.41 20L4 18.59l7.72-7.72 1.47 1.35L5.41 20z\"/>\n",
       "  </svg>\n",
       "      </button>\n",
       "      \n",
       "  <style>\n",
       "    .colab-df-container {\n",
       "      display:flex;\n",
       "      flex-wrap:wrap;\n",
       "      gap: 12px;\n",
       "    }\n",
       "\n",
       "    .colab-df-convert {\n",
       "      background-color: #E8F0FE;\n",
       "      border: none;\n",
       "      border-radius: 50%;\n",
       "      cursor: pointer;\n",
       "      display: none;\n",
       "      fill: #1967D2;\n",
       "      height: 32px;\n",
       "      padding: 0 0 0 0;\n",
       "      width: 32px;\n",
       "    }\n",
       "\n",
       "    .colab-df-convert:hover {\n",
       "      background-color: #E2EBFA;\n",
       "      box-shadow: 0px 1px 2px rgba(60, 64, 67, 0.3), 0px 1px 3px 1px rgba(60, 64, 67, 0.15);\n",
       "      fill: #174EA6;\n",
       "    }\n",
       "\n",
       "    [theme=dark] .colab-df-convert {\n",
       "      background-color: #3B4455;\n",
       "      fill: #D2E3FC;\n",
       "    }\n",
       "\n",
       "    [theme=dark] .colab-df-convert:hover {\n",
       "      background-color: #434B5C;\n",
       "      box-shadow: 0px 1px 3px 1px rgba(0, 0, 0, 0.15);\n",
       "      filter: drop-shadow(0px 1px 2px rgba(0, 0, 0, 0.3));\n",
       "      fill: #FFFFFF;\n",
       "    }\n",
       "  </style>\n",
       "\n",
       "      <script>\n",
       "        const buttonEl =\n",
       "          document.querySelector('#df-8cc449dc-27c1-4d4b-8af9-28e417986900 button.colab-df-convert');\n",
       "        buttonEl.style.display =\n",
       "          google.colab.kernel.accessAllowed ? 'block' : 'none';\n",
       "\n",
       "        async function convertToInteractive(key) {\n",
       "          const element = document.querySelector('#df-8cc449dc-27c1-4d4b-8af9-28e417986900');\n",
       "          const dataTable =\n",
       "            await google.colab.kernel.invokeFunction('convertToInteractive',\n",
       "                                                     [key], {});\n",
       "          if (!dataTable) return;\n",
       "\n",
       "          const docLinkHtml = 'Like what you see? Visit the ' +\n",
       "            '<a target=\"_blank\" href=https://colab.research.google.com/notebooks/data_table.ipynb>data table notebook</a>'\n",
       "            + ' to learn more about interactive tables.';\n",
       "          element.innerHTML = '';\n",
       "          dataTable['output_type'] = 'display_data';\n",
       "          await google.colab.output.renderOutput(dataTable, element);\n",
       "          const docLink = document.createElement('div');\n",
       "          docLink.innerHTML = docLinkHtml;\n",
       "          element.appendChild(docLink);\n",
       "        }\n",
       "      </script>\n",
       "    </div>\n",
       "  </div>\n",
       "  "
      ],
      "text/plain": [
       "                                              filename width height   class  \\\n",
       "0    /content/drive/MyDrive/helmet/archive/Images/0...   500    332   white   \n",
       "1    /content/drive/MyDrive/helmet/archive/Images/0...   440    273  yellow   \n",
       "2    /content/drive/MyDrive/helmet/archive/Images/0...   560    314  yellow   \n",
       "3    /content/drive/MyDrive/helmet/archive/Images/0...  1000    665  yellow   \n",
       "4    /content/drive/MyDrive/helmet/archive/Images/0...   572    400    blue   \n",
       "..                                                 ...   ...    ...     ...   \n",
       "494  /content/drive/MyDrive/helmet/archive/Images/0...   640    579  yellow   \n",
       "495  /content/drive/MyDrive/helmet/archive/Images/0...   507    320   white   \n",
       "496  /content/drive/MyDrive/helmet/archive/Images/0...  1024    683   white   \n",
       "497  /content/drive/MyDrive/helmet/archive/Images/0...  1024    682    blue   \n",
       "498  /content/drive/MyDrive/helmet/archive/Images/0...   800    394    blue   \n",
       "\n",
       "     xmin  ymin  xmax  ymax  \n",
       "0     127   102   169   158  \n",
       "1     336   136   375   176  \n",
       "2       1     3    47    68  \n",
       "3     218   100   312   211  \n",
       "4     248   101   353   224  \n",
       "..    ...   ...   ...   ...  \n",
       "494   483    59   555   138  \n",
       "495   232    25   367   214  \n",
       "496   308   220   347   260  \n",
       "497   133   376   249   514  \n",
       "498   118    67   168   126  \n",
       "\n",
       "[499 rows x 8 columns]"
      ]
     },
     "execution_count": 8,
     "metadata": {},
     "output_type": "execute_result"
    }
   ],
   "source": [
    "df_train"
   ]
  },
  {
   "cell_type": "code",
   "execution_count": 9,
   "metadata": {
    "colab": {
     "base_uri": "https://localhost:8080/"
    },
    "executionInfo": {
     "elapsed": 29,
     "status": "ok",
     "timestamp": 1668517109015,
     "user": {
      "displayName": "tru projects",
      "userId": "10140123910494422627"
     },
     "user_tz": -330
    },
    "id": "wdvStdYmrlqo",
    "outputId": "77ff9dd0-4be8-4aec-e5d6-04b614c12fe9"
   },
   "outputs": [
    {
     "data": {
      "text/plain": [
       "yellow    147\n",
       "white     131\n",
       "red        90\n",
       "none       79\n",
       "blue       52\n",
       "Name: class, dtype: int64"
      ]
     },
     "execution_count": 9,
     "metadata": {},
     "output_type": "execute_result"
    }
   ],
   "source": [
    "df_train['class'].value_counts()"
   ]
  },
  {
   "cell_type": "code",
   "execution_count": 10,
   "metadata": {
    "colab": {
     "base_uri": "https://localhost:8080/",
     "height": 206
    },
    "execution": {
     "iopub.execute_input": "2020-11-25T07:01:36.278565Z",
     "iopub.status.busy": "2020-11-25T07:01:36.277655Z",
     "iopub.status.idle": "2020-11-25T07:01:36.288304Z",
     "shell.execute_reply": "2020-11-25T07:01:36.288801Z"
    },
    "executionInfo": {
     "elapsed": 25,
     "status": "ok",
     "timestamp": 1668517109016,
     "user": {
      "displayName": "tru projects",
      "userId": "10140123910494422627"
     },
     "user_tz": -330
    },
    "id": "frh9ETM_f4JP",
    "outputId": "e3bb389b-746e-426d-c0a5-075f85037272",
    "papermill": {
     "duration": 0.061459,
     "end_time": "2020-11-25T07:01:36.288920",
     "exception": false,
     "start_time": "2020-11-25T07:01:36.227461",
     "status": "completed"
    },
    "tags": []
   },
   "outputs": [
    {
     "data": {
      "text/html": [
       "\n",
       "  <div id=\"df-eb163bdf-91f3-465f-bcb7-ee55693ce774\">\n",
       "    <div class=\"colab-df-container\">\n",
       "      <div>\n",
       "<style scoped>\n",
       "    .dataframe tbody tr th:only-of-type {\n",
       "        vertical-align: middle;\n",
       "    }\n",
       "\n",
       "    .dataframe tbody tr th {\n",
       "        vertical-align: top;\n",
       "    }\n",
       "\n",
       "    .dataframe thead th {\n",
       "        text-align: right;\n",
       "    }\n",
       "</style>\n",
       "<table border=\"1\" class=\"dataframe\">\n",
       "  <thead>\n",
       "    <tr style=\"text-align: right;\">\n",
       "      <th></th>\n",
       "      <th>filename</th>\n",
       "      <th>width</th>\n",
       "      <th>height</th>\n",
       "      <th>class</th>\n",
       "      <th>xmin</th>\n",
       "      <th>ymin</th>\n",
       "      <th>xmax</th>\n",
       "      <th>ymax</th>\n",
       "    </tr>\n",
       "  </thead>\n",
       "  <tbody>\n",
       "    <tr>\n",
       "      <th>0</th>\n",
       "      <td>/content/drive/MyDrive/helmet/archive/Images/0...</td>\n",
       "      <td>500</td>\n",
       "      <td>332</td>\n",
       "      <td>3</td>\n",
       "      <td>127</td>\n",
       "      <td>102</td>\n",
       "      <td>169</td>\n",
       "      <td>158</td>\n",
       "    </tr>\n",
       "    <tr>\n",
       "      <th>1</th>\n",
       "      <td>/content/drive/MyDrive/helmet/archive/Images/0...</td>\n",
       "      <td>440</td>\n",
       "      <td>273</td>\n",
       "      <td>3</td>\n",
       "      <td>336</td>\n",
       "      <td>136</td>\n",
       "      <td>375</td>\n",
       "      <td>176</td>\n",
       "    </tr>\n",
       "    <tr>\n",
       "      <th>2</th>\n",
       "      <td>/content/drive/MyDrive/helmet/archive/Images/0...</td>\n",
       "      <td>560</td>\n",
       "      <td>314</td>\n",
       "      <td>3</td>\n",
       "      <td>1</td>\n",
       "      <td>3</td>\n",
       "      <td>47</td>\n",
       "      <td>68</td>\n",
       "    </tr>\n",
       "    <tr>\n",
       "      <th>3</th>\n",
       "      <td>/content/drive/MyDrive/helmet/archive/Images/0...</td>\n",
       "      <td>1000</td>\n",
       "      <td>665</td>\n",
       "      <td>3</td>\n",
       "      <td>218</td>\n",
       "      <td>100</td>\n",
       "      <td>312</td>\n",
       "      <td>211</td>\n",
       "    </tr>\n",
       "    <tr>\n",
       "      <th>4</th>\n",
       "      <td>/content/drive/MyDrive/helmet/archive/Images/0...</td>\n",
       "      <td>572</td>\n",
       "      <td>400</td>\n",
       "      <td>0</td>\n",
       "      <td>248</td>\n",
       "      <td>101</td>\n",
       "      <td>353</td>\n",
       "      <td>224</td>\n",
       "    </tr>\n",
       "  </tbody>\n",
       "</table>\n",
       "</div>\n",
       "      <button class=\"colab-df-convert\" onclick=\"convertToInteractive('df-eb163bdf-91f3-465f-bcb7-ee55693ce774')\"\n",
       "              title=\"Convert this dataframe to an interactive table.\"\n",
       "              style=\"display:none;\">\n",
       "        \n",
       "  <svg xmlns=\"http://www.w3.org/2000/svg\" height=\"24px\"viewBox=\"0 0 24 24\"\n",
       "       width=\"24px\">\n",
       "    <path d=\"M0 0h24v24H0V0z\" fill=\"none\"/>\n",
       "    <path d=\"M18.56 5.44l.94 2.06.94-2.06 2.06-.94-2.06-.94-.94-2.06-.94 2.06-2.06.94zm-11 1L8.5 8.5l.94-2.06 2.06-.94-2.06-.94L8.5 2.5l-.94 2.06-2.06.94zm10 10l.94 2.06.94-2.06 2.06-.94-2.06-.94-.94-2.06-.94 2.06-2.06.94z\"/><path d=\"M17.41 7.96l-1.37-1.37c-.4-.4-.92-.59-1.43-.59-.52 0-1.04.2-1.43.59L10.3 9.45l-7.72 7.72c-.78.78-.78 2.05 0 2.83L4 21.41c.39.39.9.59 1.41.59.51 0 1.02-.2 1.41-.59l7.78-7.78 2.81-2.81c.8-.78.8-2.07 0-2.86zM5.41 20L4 18.59l7.72-7.72 1.47 1.35L5.41 20z\"/>\n",
       "  </svg>\n",
       "      </button>\n",
       "      \n",
       "  <style>\n",
       "    .colab-df-container {\n",
       "      display:flex;\n",
       "      flex-wrap:wrap;\n",
       "      gap: 12px;\n",
       "    }\n",
       "\n",
       "    .colab-df-convert {\n",
       "      background-color: #E8F0FE;\n",
       "      border: none;\n",
       "      border-radius: 50%;\n",
       "      cursor: pointer;\n",
       "      display: none;\n",
       "      fill: #1967D2;\n",
       "      height: 32px;\n",
       "      padding: 0 0 0 0;\n",
       "      width: 32px;\n",
       "    }\n",
       "\n",
       "    .colab-df-convert:hover {\n",
       "      background-color: #E2EBFA;\n",
       "      box-shadow: 0px 1px 2px rgba(60, 64, 67, 0.3), 0px 1px 3px 1px rgba(60, 64, 67, 0.15);\n",
       "      fill: #174EA6;\n",
       "    }\n",
       "\n",
       "    [theme=dark] .colab-df-convert {\n",
       "      background-color: #3B4455;\n",
       "      fill: #D2E3FC;\n",
       "    }\n",
       "\n",
       "    [theme=dark] .colab-df-convert:hover {\n",
       "      background-color: #434B5C;\n",
       "      box-shadow: 0px 1px 3px 1px rgba(0, 0, 0, 0.15);\n",
       "      filter: drop-shadow(0px 1px 2px rgba(0, 0, 0, 0.3));\n",
       "      fill: #FFFFFF;\n",
       "    }\n",
       "  </style>\n",
       "\n",
       "      <script>\n",
       "        const buttonEl =\n",
       "          document.querySelector('#df-eb163bdf-91f3-465f-bcb7-ee55693ce774 button.colab-df-convert');\n",
       "        buttonEl.style.display =\n",
       "          google.colab.kernel.accessAllowed ? 'block' : 'none';\n",
       "\n",
       "        async function convertToInteractive(key) {\n",
       "          const element = document.querySelector('#df-eb163bdf-91f3-465f-bcb7-ee55693ce774');\n",
       "          const dataTable =\n",
       "            await google.colab.kernel.invokeFunction('convertToInteractive',\n",
       "                                                     [key], {});\n",
       "          if (!dataTable) return;\n",
       "\n",
       "          const docLinkHtml = 'Like what you see? Visit the ' +\n",
       "            '<a target=\"_blank\" href=https://colab.research.google.com/notebooks/data_table.ipynb>data table notebook</a>'\n",
       "            + ' to learn more about interactive tables.';\n",
       "          element.innerHTML = '';\n",
       "          dataTable['output_type'] = 'display_data';\n",
       "          await google.colab.output.renderOutput(dataTable, element);\n",
       "          const docLink = document.createElement('div');\n",
       "          docLink.innerHTML = docLinkHtml;\n",
       "          element.appendChild(docLink);\n",
       "        }\n",
       "      </script>\n",
       "    </div>\n",
       "  </div>\n",
       "  "
      ],
      "text/plain": [
       "                                            filename width height  class  \\\n",
       "0  /content/drive/MyDrive/helmet/archive/Images/0...   500    332      3   \n",
       "1  /content/drive/MyDrive/helmet/archive/Images/0...   440    273      3   \n",
       "2  /content/drive/MyDrive/helmet/archive/Images/0...   560    314      3   \n",
       "3  /content/drive/MyDrive/helmet/archive/Images/0...  1000    665      3   \n",
       "4  /content/drive/MyDrive/helmet/archive/Images/0...   572    400      0   \n",
       "\n",
       "   xmin  ymin  xmax  ymax  \n",
       "0   127   102   169   158  \n",
       "1   336   136   375   176  \n",
       "2     1     3    47    68  \n",
       "3   218   100   312   211  \n",
       "4   248   101   353   224  "
      ]
     },
     "execution_count": 10,
     "metadata": {},
     "output_type": "execute_result"
    }
   ],
   "source": [
    "class_dict = {'blue': 0, 'none': 1, 'red': 2, 'white': 3, 'yellow': 3}\n",
    "idx_to_class = {k:v for k,v in enumerate(list(class_dict.keys()))}\n",
    "df_train['class'] = df_train['class'].apply(lambda x:  class_dict[x])\n",
    "df_train.head()"
   ]
  },
  {
   "cell_type": "markdown",
   "metadata": {
    "id": "aQJ4N4z_f4JQ",
    "papermill": {
     "duration": 0.02824,
     "end_time": "2020-11-25T07:01:36.346102",
     "exception": false,
     "start_time": "2020-11-25T07:01:36.317862",
     "status": "completed"
    },
    "tags": []
   },
   "source": [
    "# Prepare Images size and bounding boxes"
   ]
  },
  {
   "cell_type": "code",
   "execution_count": 11,
   "metadata": {
    "execution": {
     "iopub.execute_input": "2020-11-25T07:01:36.410903Z",
     "iopub.status.busy": "2020-11-25T07:01:36.410252Z",
     "iopub.status.idle": "2020-11-25T07:01:36.413968Z",
     "shell.execute_reply": "2020-11-25T07:01:36.414745Z"
    },
    "executionInfo": {
     "elapsed": 24,
     "status": "ok",
     "timestamp": 1668517109017,
     "user": {
      "displayName": "tru projects",
      "userId": "10140123910494422627"
     },
     "user_tz": -330
    },
    "id": "YdUzDxRif4JQ",
    "papermill": {
     "duration": 0.039647,
     "end_time": "2020-11-25T07:01:36.414890",
     "exception": false,
     "start_time": "2020-11-25T07:01:36.375243",
     "status": "completed"
    },
    "tags": []
   },
   "outputs": [],
   "source": [
    "# additional functions\n",
    "\n",
    "def read_image(path):\n",
    "    return cv2.cvtColor(cv2.imread(str(path)), cv2.COLOR_BGR2RGB)\n",
    "\n",
    "def create_bb_array(x):\n",
    "    return np.array([x[5],x[4],x[7],x[6]])"
   ]
  },
  {
   "cell_type": "code",
   "execution_count": 12,
   "metadata": {
    "execution": {
     "iopub.execute_input": "2020-11-25T07:01:36.484026Z",
     "iopub.status.busy": "2020-11-25T07:01:36.482138Z",
     "iopub.status.idle": "2020-11-25T07:01:36.484714Z",
     "shell.execute_reply": "2020-11-25T07:01:36.485225Z"
    },
    "executionInfo": {
     "elapsed": 23,
     "status": "ok",
     "timestamp": 1668517109017,
     "user": {
      "displayName": "tru projects",
      "userId": "10140123910494422627"
     },
     "user_tz": -330
    },
    "id": "ePqRRwG8f4JR",
    "papermill": {
     "duration": 0.042121,
     "end_time": "2020-11-25T07:01:36.485351",
     "exception": false,
     "start_time": "2020-11-25T07:01:36.443230",
     "status": "completed"
    },
    "tags": []
   },
   "outputs": [],
   "source": [
    "# masks functions\n",
    "\n",
    "def create_mask(bb, x):\n",
    "    rows,cols,*_ = x.shape\n",
    "    Y = np.zeros((rows, cols))\n",
    "    bb = bb.astype(np.int)\n",
    "    Y[bb[0]:bb[2], bb[1]:bb[3]] = 1.\n",
    "    return Y\n",
    "\n",
    "def mask_to_bb(Y):\n",
    "    cols, rows = np.nonzero(Y)\n",
    "    if len(cols)==0: \n",
    "        return np.zeros(4, dtype=np.float32)\n",
    "    top_row = np.min(rows)\n",
    "    left_col = np.min(cols)\n",
    "    bottom_row = np.max(rows)\n",
    "    right_col = np.max(cols)\n",
    "    return np.array([left_col, top_row, right_col, bottom_row], dtype=np.float32)"
   ]
  },
  {
   "cell_type": "code",
   "execution_count": 13,
   "metadata": {
    "execution": {
     "iopub.execute_input": "2020-11-25T07:01:36.551066Z",
     "iopub.status.busy": "2020-11-25T07:01:36.547960Z",
     "iopub.status.idle": "2020-11-25T07:01:36.561683Z",
     "shell.execute_reply": "2020-11-25T07:01:36.562909Z"
    },
    "executionInfo": {
     "elapsed": 24,
     "status": "ok",
     "timestamp": 1668517109018,
     "user": {
      "displayName": "tru projects",
      "userId": "10140123910494422627"
     },
     "user_tz": -330
    },
    "id": "IakSvZq1f4JR",
    "papermill": {
     "duration": 0.049233,
     "end_time": "2020-11-25T07:01:36.563123",
     "exception": false,
     "start_time": "2020-11-25T07:01:36.513890",
     "status": "completed"
    },
    "tags": []
   },
   "outputs": [],
   "source": [
    "def resize_image_bb(read_path, write_path, bb, sz):\n",
    "    im = read_image(read_path)\n",
    "    im_resized = cv2.resize(im, (int(1.49*sz), sz))\n",
    "    Y_resized = cv2.resize(create_mask(bb, im), (int(1.49*sz), sz))\n",
    "    new_path = str(write_path/read_path.parts[-1])\n",
    "    cv2.imwrite(new_path, cv2.cvtColor(im_resized, cv2.COLOR_RGB2BGR))\n",
    "    return new_path, mask_to_bb(Y_resized)"
   ]
  },
  {
   "cell_type": "code",
   "execution_count": 14,
   "metadata": {
    "execution": {
     "iopub.execute_input": "2020-11-25T07:01:36.666272Z",
     "iopub.status.busy": "2020-11-25T07:01:36.665113Z",
     "iopub.status.idle": "2020-11-25T07:01:38.395591Z",
     "shell.execute_reply": "2020-11-25T07:01:38.394518Z"
    },
    "executionInfo": {
     "elapsed": 25,
     "status": "ok",
     "timestamp": 1668517109020,
     "user": {
      "displayName": "tru projects",
      "userId": "10140123910494422627"
     },
     "user_tz": -330
    },
    "id": "eflqjotqf4JR",
    "papermill": {
     "duration": 1.786999,
     "end_time": "2020-11-25T07:01:38.395719",
     "exception": false,
     "start_time": "2020-11-25T07:01:36.608720",
     "status": "completed"
    },
    "tags": []
   },
   "outputs": [],
   "source": [
    "!rm -rf images_resized\n",
    "!mkdir images_resized"
   ]
  },
  {
   "cell_type": "code",
   "execution_count": 15,
   "metadata": {
    "colab": {
     "base_uri": "https://localhost:8080/"
    },
    "execution": {
     "iopub.execute_input": "2020-11-25T07:01:38.465711Z",
     "iopub.status.busy": "2020-11-25T07:01:38.464729Z",
     "iopub.status.idle": "2020-11-25T07:02:02.421231Z",
     "shell.execute_reply": "2020-11-25T07:02:02.419972Z"
    },
    "executionInfo": {
     "elapsed": 471122,
     "status": "ok",
     "timestamp": 1668517580120,
     "user": {
      "displayName": "tru projects",
      "userId": "10140123910494422627"
     },
     "user_tz": -330
    },
    "id": "s7-mp2I_f4JS",
    "outputId": "9bb41ba7-defe-463f-9598-965ec883e972",
    "papermill": {
     "duration": 23.994459,
     "end_time": "2020-11-25T07:02:02.421357",
     "exception": false,
     "start_time": "2020-11-25T07:01:38.426898",
     "status": "completed"
    },
    "tags": []
   },
   "outputs": [
    {
     "name": "stderr",
     "output_type": "stream",
     "text": [
      "/usr/local/lib/python3.7/dist-packages/ipykernel_launcher.py:6: DeprecationWarning: `np.int` is a deprecated alias for the builtin `int`. To silence this warning, use `int` by itself. Doing this will not modify any behavior and is safe. When replacing `np.int`, you may wish to use e.g. `np.int64` or `np.int32` to specify the precision. If you wish to review your current use, check the release note link for additional information.\n",
      "Deprecated in NumPy 1.20; for more details and guidance: https://numpy.org/devdocs/release/1.20.0-notes.html#deprecations\n",
      "  \n"
     ]
    }
   ],
   "source": [
    "new_paths = []\n",
    "new_bbs = []\n",
    "train_path_resized = Path('images_resized')\n",
    "\n",
    "for index, row in df_train.iterrows():\n",
    "    new_path,new_bb = resize_image_bb(row['filename'], train_path_resized, create_bb_array(row.values),300)\n",
    "    new_paths.append(new_path)\n",
    "    new_bbs.append(new_bb)\n",
    "    \n",
    "df_train['new_path'] = new_paths\n",
    "df_train['new_bb'] = new_bbs"
   ]
  },
  {
   "cell_type": "markdown",
   "metadata": {
    "id": "XBD0kbdsf4JS",
    "papermill": {
     "duration": 0.029379,
     "end_time": "2020-11-25T07:02:02.481426",
     "exception": false,
     "start_time": "2020-11-25T07:02:02.452047",
     "status": "completed"
    },
    "tags": []
   },
   "source": [
    "# Data Augmentation"
   ]
  },
  {
   "cell_type": "code",
   "execution_count": 16,
   "metadata": {
    "execution": {
     "iopub.execute_input": "2020-11-25T07:02:02.560905Z",
     "iopub.status.busy": "2020-11-25T07:02:02.558937Z",
     "iopub.status.idle": "2020-11-25T07:02:02.561706Z",
     "shell.execute_reply": "2020-11-25T07:02:02.562206Z"
    },
    "executionInfo": {
     "elapsed": 56,
     "status": "ok",
     "timestamp": 1668517580121,
     "user": {
      "displayName": "tru projects",
      "userId": "10140123910494422627"
     },
     "user_tz": -330
    },
    "id": "68UqKt6xf4JS",
    "papermill": {
     "duration": 0.051464,
     "end_time": "2020-11-25T07:02:02.562322",
     "exception": false,
     "start_time": "2020-11-25T07:02:02.510858",
     "status": "completed"
    },
    "tags": []
   },
   "outputs": [],
   "source": [
    "# crop functions\n",
    "\n",
    "def crop(im, r, c, target_r, target_c): \n",
    "    return im[r:r+target_r, c:c+target_c]\n",
    "\n",
    "def random_crop(x, r_pix=8):\n",
    "    r, c,*_ = x.shape\n",
    "    c_pix = round(r_pix*c/r)\n",
    "    rand_r = random.uniform(0, 1)\n",
    "    rand_c = random.uniform(0, 1)\n",
    "    start_r = np.floor(2*rand_r*r_pix).astype(int)\n",
    "    start_c = np.floor(2*rand_c*c_pix).astype(int)\n",
    "    return crop(x, start_r, start_c, r-2*r_pix, c-2*c_pix)\n",
    "\n",
    "def center_crop(x, r_pix=8):\n",
    "    r, c,*_ = x.shape\n",
    "    c_pix = round(r_pix*c/r)\n",
    "    return crop(x, r_pix, c_pix, r-2*r_pix, c-2*c_pix)\n",
    "\n",
    "def random_cropXY(x, Y, r_pix=8):\n",
    "    r, c,*_ = x.shape\n",
    "    c_pix = round(r_pix*c/r)\n",
    "    rand_r = random.uniform(0, 1)\n",
    "    rand_c = random.uniform(0, 1)\n",
    "    start_r = np.floor(2*rand_r*r_pix).astype(int)\n",
    "    start_c = np.floor(2*rand_c*c_pix).astype(int)\n",
    "    xx = crop(x, start_r, start_c, r-2*r_pix, c-2*c_pix)\n",
    "    YY = crop(Y, start_r, start_c, r-2*r_pix, c-2*c_pix)\n",
    "    return xx, YY"
   ]
  },
  {
   "cell_type": "code",
   "execution_count": 17,
   "metadata": {
    "execution": {
     "iopub.execute_input": "2020-11-25T07:02:02.630514Z",
     "iopub.status.busy": "2020-11-25T07:02:02.629709Z",
     "iopub.status.idle": "2020-11-25T07:02:02.633290Z",
     "shell.execute_reply": "2020-11-25T07:02:02.633769Z"
    },
    "executionInfo": {
     "elapsed": 54,
     "status": "ok",
     "timestamp": 1668517580121,
     "user": {
      "displayName": "tru projects",
      "userId": "10140123910494422627"
     },
     "user_tz": -330
    },
    "id": "FUnOI-zdf4JS",
    "papermill": {
     "duration": 0.041492,
     "end_time": "2020-11-25T07:02:02.633900",
     "exception": false,
     "start_time": "2020-11-25T07:02:02.592408",
     "status": "completed"
    },
    "tags": []
   },
   "outputs": [],
   "source": [
    "def rotate_cv(im, deg, y=False, mode=cv2.BORDER_REFLECT, interpolation=cv2.INTER_AREA):\n",
    "    \"\"\" Rotates an image by deg degrees\"\"\"\n",
    "    r,c,*_ = im.shape\n",
    "    M = cv2.getRotationMatrix2D((c/2,r/2),deg,1)\n",
    "    if y:\n",
    "        return cv2.warpAffine(im, M,(c,r), borderMode=cv2.BORDER_CONSTANT)\n",
    "    return cv2.warpAffine(im,M,(c,r), borderMode=mode, flags=cv2.WARP_FILL_OUTLIERS+interpolation)"
   ]
  },
  {
   "cell_type": "code",
   "execution_count": 18,
   "metadata": {
    "execution": {
     "iopub.execute_input": "2020-11-25T07:02:02.705231Z",
     "iopub.status.busy": "2020-11-25T07:02:02.704517Z",
     "iopub.status.idle": "2020-11-25T07:02:02.708868Z",
     "shell.execute_reply": "2020-11-25T07:02:02.708344Z"
    },
    "executionInfo": {
     "elapsed": 54,
     "status": "ok",
     "timestamp": 1668517580122,
     "user": {
      "displayName": "tru projects",
      "userId": "10140123910494422627"
     },
     "user_tz": -330
    },
    "id": "xkce07jrf4JT",
    "papermill": {
     "duration": 0.044594,
     "end_time": "2020-11-25T07:02:02.708963",
     "exception": false,
     "start_time": "2020-11-25T07:02:02.664369",
     "status": "completed"
    },
    "tags": []
   },
   "outputs": [],
   "source": [
    "# main function for augmentation\n",
    "\n",
    "def transformsXY(path, bb, transforms):\n",
    "    x = cv2.imread(str(path)).astype(np.float32)\n",
    "    x = cv2.cvtColor(x, cv2.COLOR_BGR2RGB)/255\n",
    "    Y = create_mask(bb, x)\n",
    "    if transforms:\n",
    "        rdeg = (np.random.random()-.50)*20\n",
    "        x = rotate_cv(x, rdeg)\n",
    "        Y = rotate_cv(Y, rdeg, y=True)\n",
    "        if np.random.random() > 0.5: \n",
    "            x = np.fliplr(x).copy()\n",
    "            Y = np.fliplr(Y).copy()\n",
    "        x, Y = random_cropXY(x, Y)\n",
    "    else:\n",
    "        x, Y = center_crop(x), center_crop(Y)\n",
    "    return x, mask_to_bb(Y)"
   ]
  },
  {
   "cell_type": "code",
   "execution_count": 19,
   "metadata": {
    "execution": {
     "iopub.execute_input": "2020-11-25T07:02:02.778078Z",
     "iopub.status.busy": "2020-11-25T07:02:02.777390Z",
     "iopub.status.idle": "2020-11-25T07:02:02.781953Z",
     "shell.execute_reply": "2020-11-25T07:02:02.781421Z"
    },
    "executionInfo": {
     "elapsed": 53,
     "status": "ok",
     "timestamp": 1668517580122,
     "user": {
      "displayName": "tru projects",
      "userId": "10140123910494422627"
     },
     "user_tz": -330
    },
    "id": "BktzWTvFf4JT",
    "papermill": {
     "duration": 0.042129,
     "end_time": "2020-11-25T07:02:02.782078",
     "exception": false,
     "start_time": "2020-11-25T07:02:02.739949",
     "status": "completed"
    },
    "tags": []
   },
   "outputs": [],
   "source": [
    "# functions to create and show the boxes\n",
    "\n",
    "def create_corner_rect(bb, color='red'):\n",
    "    bb = np.array(bb, dtype=np.float32)\n",
    "    return plt.Rectangle((bb[1], bb[0]), bb[3]-bb[1], bb[2]-bb[0], color=color,\n",
    "                         fill=False, lw=3)\n",
    "\n",
    "def show_corner_bb(im, bb):\n",
    "    plt.imshow(im)\n",
    "    plt.gca().add_patch(create_corner_rect(bb))"
   ]
  },
  {
   "cell_type": "markdown",
   "metadata": {
    "id": "daO5H4dVf4JT",
    "papermill": {
     "duration": 0.030613,
     "end_time": "2020-11-25T07:02:02.844295",
     "exception": false,
     "start_time": "2020-11-25T07:02:02.813682",
     "status": "completed"
    },
    "tags": []
   },
   "source": [
    "# Demo Image with Bounding Box"
   ]
  },
  {
   "cell_type": "code",
   "execution_count": 20,
   "metadata": {
    "colab": {
     "base_uri": "https://localhost:8080/",
     "height": 269
    },
    "execution": {
     "iopub.execute_input": "2020-11-25T07:02:02.913776Z",
     "iopub.status.busy": "2020-11-25T07:02:02.912864Z",
     "iopub.status.idle": "2020-11-25T07:02:03.192201Z",
     "shell.execute_reply": "2020-11-25T07:02:03.192765Z"
    },
    "executionInfo": {
     "elapsed": 53,
     "status": "ok",
     "timestamp": 1668517580123,
     "user": {
      "displayName": "tru projects",
      "userId": "10140123910494422627"
     },
     "user_tz": -330
    },
    "id": "M3rn67j8f4JU",
    "outputId": "84a80dc5-3ce5-49d4-dc00-b717afc4c713",
    "papermill": {
     "duration": 0.317416,
     "end_time": "2020-11-25T07:02:03.192905",
     "exception": false,
     "start_time": "2020-11-25T07:02:02.875489",
     "status": "completed"
    },
    "tags": []
   },
   "outputs": [
    {
     "data": {
      "image/png": "[encoded data removed]",
      "text/plain": [
       "<Figure size 432x288 with 1 Axes>"
      ]
     },
     "metadata": {
      "needs_background": "light"
     },
     "output_type": "display_data"
    }
   ],
   "source": [
    "# before transformation\n",
    "\n",
    "im = cv2.imread(str(df_train.values[100][8]))\n",
    "im = cv2.cvtColor(im, cv2.COLOR_BGR2RGB)\n",
    "show_corner_bb(im, df_train.values[100][9])"
   ]
  },
  {
   "cell_type": "code",
   "execution_count": 21,
   "metadata": {
    "colab": {
     "base_uri": "https://localhost:8080/",
     "height": 341
    },
    "execution": {
     "iopub.execute_input": "2020-11-25T07:02:03.268043Z",
     "iopub.status.busy": "2020-11-25T07:02:03.267207Z",
     "iopub.status.idle": "2020-11-25T07:02:03.529681Z",
     "shell.execute_reply": "2020-11-25T07:02:03.530284Z"
    },
    "executionInfo": {
     "elapsed": 46,
     "status": "ok",
     "timestamp": 1668517580123,
     "user": {
      "displayName": "tru projects",
      "userId": "10140123910494422627"
     },
     "user_tz": -330
    },
    "id": "5AztZvCcf4JU",
    "outputId": "b65a81fa-6bae-45af-c784-288c35dc5beb",
    "papermill": {
     "duration": 0.302626,
     "end_time": "2020-11-25T07:02:03.530446",
     "exception": false,
     "start_time": "2020-11-25T07:02:03.227820",
     "status": "completed"
    },
    "tags": []
   },
   "outputs": [
    {
     "name": "stderr",
     "output_type": "stream",
     "text": [
      "/usr/local/lib/python3.7/dist-packages/ipykernel_launcher.py:6: DeprecationWarning: `np.int` is a deprecated alias for the builtin `int`. To silence this warning, use `int` by itself. Doing this will not modify any behavior and is safe. When replacing `np.int`, you may wish to use e.g. `np.int64` or `np.int32` to specify the precision. If you wish to review your current use, check the release note link for additional information.\n",
      "Deprecated in NumPy 1.20; for more details and guidance: https://numpy.org/devdocs/release/1.20.0-notes.html#deprecations\n",
      "  \n"
     ]
    },
    {
     "data": {
      "image/png": "[encoded data removed]",
      "text/plain": [
       "<Figure size 432x288 with 1 Axes>"
      ]
     },
     "metadata": {
      "needs_background": "light"
     },
     "output_type": "display_data"
    }
   ],
   "source": [
    "# after transformation\n",
    "\n",
    "im, bb = transformsXY(str(df_train.values[100][8]),df_train.values[100][9],True )\n",
    "show_corner_bb(im, bb)"
   ]
  },
  {
   "cell_type": "markdown",
   "metadata": {
    "id": "kwr-WjX2f4JU",
    "papermill": {
     "duration": 0.043364,
     "end_time": "2020-11-25T07:02:03.614038",
     "exception": false,
     "start_time": "2020-11-25T07:02:03.570674",
     "status": "completed"
    },
    "tags": []
   },
   "source": [
    "# Split DataSet"
   ]
  },
  {
   "cell_type": "code",
   "execution_count": 22,
   "metadata": {
    "execution": {
     "iopub.execute_input": "2020-11-25T07:02:03.704144Z",
     "iopub.status.busy": "2020-11-25T07:02:03.698733Z",
     "iopub.status.idle": "2020-11-25T07:02:03.706390Z",
     "shell.execute_reply": "2020-11-25T07:02:03.706874Z"
    },
    "executionInfo": {
     "elapsed": 30,
     "status": "ok",
     "timestamp": 1668517580124,
     "user": {
      "displayName": "tru projects",
      "userId": "10140123910494422627"
     },
     "user_tz": -330
    },
    "id": "E-fL1qcEf4JU",
    "papermill": {
     "duration": 0.053291,
     "end_time": "2020-11-25T07:02:03.707019",
     "exception": false,
     "start_time": "2020-11-25T07:02:03.653728",
     "status": "completed"
    },
    "tags": []
   },
   "outputs": [],
   "source": [
    "df_train = df_train.reset_index()\n",
    "\n",
    "X = df_train[['new_path', 'new_bb']]\n",
    "y = df_train['class']"
   ]
  },
  {
   "cell_type": "code",
   "execution_count": 23,
   "metadata": {
    "execution": {
     "iopub.execute_input": "2020-11-25T07:02:03.792296Z",
     "iopub.status.busy": "2020-11-25T07:02:03.790899Z",
     "iopub.status.idle": "2020-11-25T07:02:03.795778Z",
     "shell.execute_reply": "2020-11-25T07:02:03.795153Z"
    },
    "executionInfo": {
     "elapsed": 29,
     "status": "ok",
     "timestamp": 1668517580124,
     "user": {
      "displayName": "tru projects",
      "userId": "10140123910494422627"
     },
     "user_tz": -330
    },
    "id": "H8BnYT4Pf4JU",
    "papermill": {
     "duration": 0.04977,
     "end_time": "2020-11-25T07:02:03.795883",
     "exception": false,
     "start_time": "2020-11-25T07:02:03.746113",
     "status": "completed"
    },
    "tags": []
   },
   "outputs": [],
   "source": [
    "X_train, X_test, y_train, y_test = train_test_split(X, y, test_size=0.3, random_state=34)"
   ]
  },
  {
   "cell_type": "code",
   "execution_count": 24,
   "metadata": {
    "execution": {
     "iopub.execute_input": "2020-11-25T07:02:03.990096Z",
     "iopub.status.busy": "2020-11-25T07:02:03.989169Z",
     "iopub.status.idle": "2020-11-25T07:02:03.993124Z",
     "shell.execute_reply": "2020-11-25T07:02:03.992519Z"
    },
    "executionInfo": {
     "elapsed": 29,
     "status": "ok",
     "timestamp": 1668517580125,
     "user": {
      "displayName": "tru projects",
      "userId": "10140123910494422627"
     },
     "user_tz": -330
    },
    "id": "ohk0Xmyyf4JV",
    "papermill": {
     "duration": 0.058423,
     "end_time": "2020-11-25T07:02:03.993238",
     "exception": false,
     "start_time": "2020-11-25T07:02:03.934815",
     "status": "completed"
    },
    "tags": []
   },
   "outputs": [],
   "source": [
    "class RoadDataset(Dataset):\n",
    "    def __init__(self, paths, bb, y, transforms=False):\n",
    "        self.transforms = transforms\n",
    "        self.paths = paths.values\n",
    "        self.bb = bb.values\n",
    "        self.y = y.values\n",
    "        \n",
    "    def normalize(self, im):\n",
    "        imagenet_stats = np.array([[0.485, 0.456, 0.406], [0.229, 0.224, 0.225]])\n",
    "        return (im - imagenet_stats[0])/imagenet_stats[1]\n",
    "    \n",
    "    def __len__(self):\n",
    "        return len(self.paths)\n",
    "    \n",
    "    def __getitem__(self, idx):\n",
    "        path = self.paths[idx]\n",
    "        y_class = self.y[idx]\n",
    "        x, y_bb = transformsXY(path, self.bb[idx], self.transforms)\n",
    "        x = self.normalize(x)\n",
    "        x = np.rollaxis(x, 2)\n",
    "        return x, y_class, y_bb"
   ]
  },
  {
   "cell_type": "code",
   "execution_count": 25,
   "metadata": {
    "execution": {
     "iopub.execute_input": "2020-11-25T07:02:04.077438Z",
     "iopub.status.busy": "2020-11-25T07:02:04.076628Z",
     "iopub.status.idle": "2020-11-25T07:02:04.080880Z",
     "shell.execute_reply": "2020-11-25T07:02:04.080363Z"
    },
    "executionInfo": {
     "elapsed": 879,
     "status": "ok",
     "timestamp": 1668517580975,
     "user": {
      "displayName": "tru projects",
      "userId": "10140123910494422627"
     },
     "user_tz": -330
    },
    "id": "fKY5BPuVf4JV",
    "papermill": {
     "duration": 0.049738,
     "end_time": "2020-11-25T07:02:04.081002",
     "exception": false,
     "start_time": "2020-11-25T07:02:04.031264",
     "status": "completed"
    },
    "tags": []
   },
   "outputs": [],
   "source": [
    "batch_size = 64\n",
    "\n",
    "train_ds = RoadDataset(X_train['new_path'],X_train['new_bb'] ,y_train, transforms=True)\n",
    "valid_ds = RoadDataset(X_test['new_path'],X_test['new_bb'],y_test)\n",
    "\n",
    "train_dl = DataLoader(train_ds, batch_size=batch_size, shuffle=True)\n",
    "valid_dl = DataLoader(valid_ds, batch_size=batch_size)"
   ]
  },
  {
   "cell_type": "markdown",
   "metadata": {
    "id": "TCpJtIY7f4JV",
    "papermill": {
     "duration": 0.038766,
     "end_time": "2020-11-25T07:02:04.159142",
     "exception": false,
     "start_time": "2020-11-25T07:02:04.120376",
     "status": "completed"
    },
    "tags": []
   },
   "source": [
    "# Bounding Box Model"
   ]
  },
  {
   "cell_type": "code",
   "execution_count": 26,
   "metadata": {
    "execution": {
     "iopub.execute_input": "2020-11-25T07:02:04.248514Z",
     "iopub.status.busy": "2020-11-25T07:02:04.247611Z",
     "iopub.status.idle": "2020-11-25T07:02:04.251082Z",
     "shell.execute_reply": "2020-11-25T07:02:04.250524Z"
    },
    "executionInfo": {
     "elapsed": 33,
     "status": "ok",
     "timestamp": 1668517580975,
     "user": {
      "displayName": "tru projects",
      "userId": "10140123910494422627"
     },
     "user_tz": -330
    },
    "id": "hXW30OuPf4JY",
    "papermill": {
     "duration": 0.053441,
     "end_time": "2020-11-25T07:02:04.251206",
     "exception": false,
     "start_time": "2020-11-25T07:02:04.197765",
     "status": "completed"
    },
    "tags": []
   },
   "outputs": [],
   "source": [
    "class RCNN(nn.Module):\n",
    "    def __init__(self):\n",
    "        super(RCNN, self).__init__()\n",
    "        resnet = models.resnet34(pretrained=True)\n",
    "        layers = list(resnet.children())[:8]\n",
    "        self.features1 = nn.Sequential(*layers[:6])\n",
    "        self.features2 = nn.Sequential(*layers[6:])\n",
    "        self.classifier = nn.Sequential(nn.BatchNorm1d(512), nn.Linear(512, 4))\n",
    "        self.bb = nn.Sequential(nn.BatchNorm1d(512), nn.Linear(512, 4))\n",
    "        \n",
    "    def forward(self, x):\n",
    "        x = self.features1(x)\n",
    "        x = self.features2(x)\n",
    "        x = F.relu(x)\n",
    "        x = nn.AdaptiveAvgPool2d((1,1))(x)\n",
    "        x = x.view(x.shape[0], -1)\n",
    "        return self.classifier(x), self.bb(x)"
   ]
  },
  {
   "cell_type": "markdown",
   "metadata": {
    "id": "CjR88Cy0f4JY",
    "papermill": {
     "duration": 0.038242,
     "end_time": "2020-11-25T07:02:04.328702",
     "exception": false,
     "start_time": "2020-11-25T07:02:04.290460",
     "status": "completed"
    },
    "tags": []
   },
   "source": [
    "# Training"
   ]
  },
  {
   "cell_type": "code",
   "execution_count": 27,
   "metadata": {
    "execution": {
     "iopub.execute_input": "2020-11-25T07:02:04.412626Z",
     "iopub.status.busy": "2020-11-25T07:02:04.410593Z",
     "iopub.status.idle": "2020-11-25T07:02:04.413379Z",
     "shell.execute_reply": "2020-11-25T07:02:04.413896Z"
    },
    "executionInfo": {
     "elapsed": 33,
     "status": "ok",
     "timestamp": 1668517580976,
     "user": {
      "displayName": "tru projects",
      "userId": "10140123910494422627"
     },
     "user_tz": -330
    },
    "id": "5HWs8eCQf4JY",
    "papermill": {
     "duration": 0.047037,
     "end_time": "2020-11-25T07:02:04.414039",
     "exception": false,
     "start_time": "2020-11-25T07:02:04.367002",
     "status": "completed"
    },
    "tags": []
   },
   "outputs": [],
   "source": [
    "def update_optimizer(optimizer, lr):\n",
    "    for i, param_group in enumerate(optimizer.param_groups):\n",
    "        param_group[\"lr\"] = lr"
   ]
  },
  {
   "cell_type": "code",
   "execution_count": 28,
   "metadata": {
    "execution": {
     "iopub.execute_input": "2020-11-25T07:02:04.506696Z",
     "iopub.status.busy": "2020-11-25T07:02:04.504869Z",
     "iopub.status.idle": "2020-11-25T07:02:04.507749Z",
     "shell.execute_reply": "2020-11-25T07:02:04.508265Z"
    },
    "executionInfo": {
     "elapsed": 32,
     "status": "ok",
     "timestamp": 1668517580976,
     "user": {
      "displayName": "tru projects",
      "userId": "10140123910494422627"
     },
     "user_tz": -330
    },
    "id": "99-vnRsaf4JY",
    "papermill": {
     "duration": 0.055037,
     "end_time": "2020-11-25T07:02:04.508378",
     "exception": false,
     "start_time": "2020-11-25T07:02:04.453341",
     "status": "completed"
    },
    "tags": []
   },
   "outputs": [],
   "source": [
    "def train_epocs(model, optimizer, train_dl, val_dl, epochs=10,C=1000):\n",
    "    idx = 0\n",
    "    for i in range(epochs):\n",
    "        model.train()\n",
    "        total = 0\n",
    "        sum_loss = 0\n",
    "        for x, y_class, y_bb in train_dl:\n",
    "            batch = y_class.shape[0]\n",
    "            x = x.cuda().float()\n",
    "            y_class = y_class.cuda()\n",
    "            y_bb = y_bb.cuda().float()\n",
    "            out_class, out_bb = model(x)\n",
    "            loss_class = F.cross_entropy(out_class, y_class, reduction=\"sum\")\n",
    "            loss_bb = F.l1_loss(out_bb, y_bb, reduction=\"none\").sum(1)\n",
    "            loss_bb = loss_bb.sum()\n",
    "            loss = loss_class + loss_bb/C\n",
    "            optimizer.zero_grad()\n",
    "            loss.backward()\n",
    "            optimizer.step()\n",
    "            idx += 1\n",
    "            total += batch\n",
    "            sum_loss += loss.item()\n",
    "        train_loss = sum_loss/total\n",
    "        val_loss, val_acc = val_metrics(model, valid_dl, C)\n",
    "        if (i+1) % 10 == 0:\n",
    "            print(\"i:%4d train_loss:%5.3f val_loss:%5.3f val_acc:%5.3f\" % ((i+1), train_loss, val_loss, val_acc))\n",
    "    return sum_loss/total"
   ]
  },
  {
   "cell_type": "code",
   "execution_count": 29,
   "metadata": {
    "execution": {
     "iopub.execute_input": "2020-11-25T07:02:04.610386Z",
     "iopub.status.busy": "2020-11-25T07:02:04.609568Z",
     "iopub.status.idle": "2020-11-25T07:02:04.613727Z",
     "shell.execute_reply": "2020-11-25T07:02:04.613224Z"
    },
    "executionInfo": {
     "elapsed": 32,
     "status": "ok",
     "timestamp": 1668517580977,
     "user": {
      "displayName": "tru projects",
      "userId": "10140123910494422627"
     },
     "user_tz": -330
    },
    "id": "ICjIU1KZf4JY",
    "papermill": {
     "duration": 0.056499,
     "end_time": "2020-11-25T07:02:04.613823",
     "exception": false,
     "start_time": "2020-11-25T07:02:04.557324",
     "status": "completed"
    },
    "tags": []
   },
   "outputs": [],
   "source": [
    "def val_metrics(model, valid_dl, C=1000):\n",
    "    model.eval()\n",
    "    total = 0\n",
    "    sum_loss = 0\n",
    "    correct = 0 \n",
    "    for x, y_class, y_bb in valid_dl:\n",
    "        batch = y_class.shape[0]\n",
    "        x = x.cuda().float()\n",
    "        y_class = y_class.cuda()\n",
    "        y_bb = y_bb.cuda().float()\n",
    "        out_class, out_bb = model(x)\n",
    "        loss_class = F.cross_entropy(out_class, y_class, reduction=\"sum\")\n",
    "        loss_bb = F.l1_loss(out_bb, y_bb, reduction=\"none\").sum(1)\n",
    "        loss_bb = loss_bb.sum()\n",
    "        loss = loss_class + loss_bb/C\n",
    "        _, pred = torch.max(out_class, 1)\n",
    "        correct += pred.eq(y_class).sum().item()\n",
    "        sum_loss += loss.item()\n",
    "        total += batch\n",
    "    return sum_loss/total, correct/total"
   ]
  },
  {
   "cell_type": "code",
   "execution_count": 30,
   "metadata": {
    "colab": {
     "base_uri": "https://localhost:8080/",
     "height": 156,
     "referenced_widgets": [
      "f0a7fc0bff5241c88128a015eff6a70a",
      "033c4f7691274a138460be8c208b08d6",
      "9c91682b78e846c19d6fdf47ef094cf3",
      "ca9b7265986e4a10b6a1de258c3e5839",
      "2b6cbafff5ef46228eab598d9aaae15d",
      "6534401018224b7e85b3c3d38fefa9dd",
      "3e2d3e8b9ba548a6b1ceb4744977fb03",
      "ef931fb5018b482295c89851eeb3fd3d",
      "d9282da326f74723862ef0b93e54bf7b",
      "af80cd0c6f1344839c6de546e3846bc6",
      "4dcbfbae5e9b4e5b869a072d8717f616"
     ]
    },
    "execution": {
     "iopub.execute_input": "2020-11-25T07:02:04.698726Z",
     "iopub.status.busy": "2020-11-25T07:02:04.698037Z",
     "iopub.status.idle": "2020-11-25T07:02:13.856415Z",
     "shell.execute_reply": "2020-11-25T07:02:13.855231Z"
    },
    "executionInfo": {
     "elapsed": 5207,
     "status": "ok",
     "timestamp": 1668517586153,
     "user": {
      "displayName": "tru projects",
      "userId": "10140123910494422627"
     },
     "user_tz": -330
    },
    "id": "613nLTgYf4JZ",
    "outputId": "7db3e2ab-21a1-4e3d-8cf0-124830f41062",
    "papermill": {
     "duration": 9.203393,
     "end_time": "2020-11-25T07:02:13.856542",
     "exception": false,
     "start_time": "2020-11-25T07:02:04.653149",
     "status": "completed"
    },
    "tags": []
   },
   "outputs": [
    {
     "name": "stderr",
     "output_type": "stream",
     "text": [
      "/usr/local/lib/python3.7/dist-packages/torchvision/models/_utils.py:209: UserWarning: The parameter 'pretrained' is deprecated since 0.13 and will be removed in 0.15, please use 'weights' instead.\n",
      "  f\"The parameter '{pretrained_param}' is deprecated since 0.13 and will be removed in 0.15, \"\n",
      "/usr/local/lib/python3.7/dist-packages/torchvision/models/_utils.py:223: UserWarning: Arguments other than a weight enum or `None` for 'weights' are deprecated since 0.13 and will be removed in 0.15. The current behavior is equivalent to passing `weights=ResNet34_Weights.IMAGENET1K_V1`. You can also use `weights=ResNet34_Weights.DEFAULT` to get the most up-to-date weights.\n",
      "  warnings.warn(msg)\n",
      "Downloading: \"https://download.pytorch.org/models/resnet34-b627a593.pth\" to /root/.cache/torch/hub/checkpoints/resnet34-b627a593.pth\n"
     ]
    },
    {
     "data": {
      "application/vnd.jupyter.widget-view+json": {
       "model_id": "f0a7fc0bff5241c88128a015eff6a70a",
       "version_major": 2,
       "version_minor": 0
      },
      "text/plain": [
       "  0%|          | 0.00/83.3M [00:00<?, ?B/s]"
      ]
     },
     "metadata": {},
     "output_type": "display_data"
    }
   ],
   "source": [
    "model = RCNN().cuda()\n",
    "parameters = filter(lambda p: p.requires_grad, model.parameters())\n",
    "optimizer = torch.optim.Adam(parameters, lr=0.002)"
   ]
  },
  {
   "cell_type": "code",
   "execution_count": 31,
   "metadata": {
    "colab": {
     "base_uri": "https://localhost:8080/"
    },
    "execution": {
     "iopub.execute_input": "2020-11-25T07:02:13.949775Z",
     "iopub.status.busy": "2020-11-25T07:02:13.947711Z",
     "iopub.status.idle": "2020-11-25T07:34:00.755571Z",
     "shell.execute_reply": "2020-11-25T07:34:00.754413Z"
    },
    "executionInfo": {
     "elapsed": 959046,
     "status": "ok",
     "timestamp": 1668518545169,
     "user": {
      "displayName": "tru projects",
      "userId": "10140123910494422627"
     },
     "user_tz": -330
    },
    "id": "WlmL26JXf4JZ",
    "outputId": "db808bcb-813e-4c17-c28d-5d1fc5de010c",
    "papermill": {
     "duration": 1906.857857,
     "end_time": "2020-11-25T07:34:00.755701",
     "exception": false,
     "start_time": "2020-11-25T07:02:13.897844",
     "status": "completed"
    },
    "tags": []
   },
   "outputs": [
    {
     "name": "stderr",
     "output_type": "stream",
     "text": [
      "/usr/local/lib/python3.7/dist-packages/ipykernel_launcher.py:6: DeprecationWarning: `np.int` is a deprecated alias for the builtin `int`. To silence this warning, use `int` by itself. Doing this will not modify any behavior and is safe. When replacing `np.int`, you may wish to use e.g. `np.int64` or `np.int32` to specify the precision. If you wish to review your current use, check the release note link for additional information.\n",
      "Deprecated in NumPy 1.20; for more details and guidance: https://numpy.org/devdocs/release/1.20.0-notes.html#deprecations\n",
      "  \n"
     ]
    },
    {
     "name": "stdout",
     "output_type": "stream",
     "text": [
      "i:  10 train_loss:1.395 val_loss:3.800 val_acc:0.527\n",
      "i:  20 train_loss:0.987 val_loss:2.786 val_acc:0.540\n",
      "i:  30 train_loss:0.811 val_loss:4.651 val_acc:0.493\n",
      "i:  40 train_loss:0.533 val_loss:3.176 val_acc:0.627\n",
      "i:  50 train_loss:0.375 val_loss:2.976 val_acc:0.553\n",
      "i:  60 train_loss:0.380 val_loss:2.835 val_acc:0.553\n",
      "i:  70 train_loss:0.336 val_loss:2.670 val_acc:0.640\n",
      "i:  80 train_loss:0.307 val_loss:1.960 val_acc:0.640\n",
      "i:  90 train_loss:0.268 val_loss:3.547 val_acc:0.573\n",
      "i: 100 train_loss:0.290 val_loss:3.743 val_acc:0.560\n"
     ]
    },
    {
     "data": {
      "text/plain": [
       "0.4046623317423386"
      ]
     },
     "execution_count": 31,
     "metadata": {},
     "output_type": "execute_result"
    }
   ],
   "source": [
    "train_epocs(model, optimizer, train_dl, valid_dl, epochs=101)"
   ]
  },
  {
   "cell_type": "code",
   "execution_count": 32,
   "metadata": {
    "colab": {
     "base_uri": "https://localhost:8080/"
    },
    "execution": {
     "iopub.execute_input": "2020-11-25T07:34:00.940923Z",
     "iopub.status.busy": "2020-11-25T07:34:00.939944Z",
     "iopub.status.idle": "2020-11-25T07:34:01.835966Z",
     "shell.execute_reply": "2020-11-25T07:34:01.834967Z"
    },
    "executionInfo": {
     "elapsed": 53,
     "status": "ok",
     "timestamp": 1668518545169,
     "user": {
      "displayName": "tru projects",
      "userId": "10140123910494422627"
     },
     "user_tz": -330
    },
    "id": "1mJa4irGf4JZ",
    "outputId": "f20234e2-4be8-4e09-b0a4-95c6730bde23",
    "papermill": {
     "duration": 0.949566,
     "end_time": "2020-11-25T07:34:01.836115",
     "exception": false,
     "start_time": "2020-11-25T07:34:00.886549",
     "status": "completed"
    },
    "tags": []
   },
   "outputs": [
    {
     "name": "stderr",
     "output_type": "stream",
     "text": [
      "/usr/local/lib/python3.7/dist-packages/ipykernel_launcher.py:6: DeprecationWarning: `np.int` is a deprecated alias for the builtin `int`. To silence this warning, use `int` by itself. Doing this will not modify any behavior and is safe. When replacing `np.int`, you may wish to use e.g. `np.int64` or `np.int32` to specify the precision. If you wish to review your current use, check the release note link for additional information.\n",
      "Deprecated in NumPy 1.20; for more details and guidance: https://numpy.org/devdocs/release/1.20.0-notes.html#deprecations\n",
      "  \n"
     ]
    }
   ],
   "source": [
    "# Predict the first image of the validation set\n",
    "test_batch = next(iter(valid_dl))\n",
    "test_batch[0] = test_batch[0].type(torch.cuda.FloatTensor).cuda()"
   ]
  },
  {
   "cell_type": "code",
   "execution_count": 33,
   "metadata": {
    "execution": {
     "iopub.execute_input": "2020-11-25T07:34:01.931913Z",
     "iopub.status.busy": "2020-11-25T07:34:01.930967Z",
     "iopub.status.idle": "2020-11-25T07:34:01.941587Z",
     "shell.execute_reply": "2020-11-25T07:34:01.942126Z"
    },
    "executionInfo": {
     "elapsed": 11,
     "status": "ok",
     "timestamp": 1668518545170,
     "user": {
      "displayName": "tru projects",
      "userId": "10140123910494422627"
     },
     "user_tz": -330
    },
    "id": "Kh9GYMSEf4JZ",
    "papermill": {
     "duration": 0.061228,
     "end_time": "2020-11-25T07:34:01.942257",
     "exception": false,
     "start_time": "2020-11-25T07:34:01.881029",
     "status": "completed"
    },
    "tags": []
   },
   "outputs": [],
   "source": [
    "out, bb = model(test_batch[0])"
   ]
  },
  {
   "cell_type": "code",
   "execution_count": 34,
   "metadata": {
    "colab": {
     "base_uri": "https://localhost:8080/"
    },
    "execution": {
     "iopub.execute_input": "2020-11-25T07:34:02.040051Z",
     "iopub.status.busy": "2020-11-25T07:34:02.039140Z",
     "iopub.status.idle": "2020-11-25T07:34:02.069319Z",
     "shell.execute_reply": "2020-11-25T07:34:02.070432Z"
    },
    "executionInfo": {
     "elapsed": 10,
     "status": "ok",
     "timestamp": 1668518545170,
     "user": {
      "displayName": "tru projects",
      "userId": "10140123910494422627"
     },
     "user_tz": -330
    },
    "id": "r8OxTvksf4Ja",
    "outputId": "e4a7ac38-f84f-4c9a-81f7-0ecbd7689fc0",
    "papermill": {
     "duration": 0.082338,
     "end_time": "2020-11-25T07:34:02.070589",
     "exception": false,
     "start_time": "2020-11-25T07:34:01.988251",
     "status": "completed"
    },
    "tags": []
   },
   "outputs": [
    {
     "name": "stdout",
     "output_type": "stream",
     "text": [
      "Class : white\n"
     ]
    }
   ],
   "source": [
    "print('Class :', idx_to_class[torch.argmax(out[0]).item()])"
   ]
  },
  {
   "cell_type": "code",
   "execution_count": 35,
   "metadata": {
    "colab": {
     "base_uri": "https://localhost:8080/",
     "height": 306
    },
    "execution": {
     "iopub.execute_input": "2020-11-25T07:34:02.168060Z",
     "iopub.status.busy": "2020-11-25T07:34:02.167092Z",
     "iopub.status.idle": "2020-11-25T07:34:02.397835Z",
     "shell.execute_reply": "2020-11-25T07:34:02.398585Z"
    },
    "executionInfo": {
     "elapsed": 1850,
     "status": "ok",
     "timestamp": 1668518547013,
     "user": {
      "displayName": "tru projects",
      "userId": "10140123910494422627"
     },
     "user_tz": -330
    },
    "id": "ZnuA4A2Of4Ja",
    "outputId": "91233326-9667-41a4-ab57-4d7d568608ad",
    "papermill": {
     "duration": 0.282142,
     "end_time": "2020-11-25T07:34:02.398775",
     "exception": false,
     "start_time": "2020-11-25T07:34:02.116633",
     "status": "completed"
    },
    "tags": []
   },
   "outputs": [
    {
     "name": "stderr",
     "output_type": "stream",
     "text": [
      "WARNING:matplotlib.image:Clipping input data to the valid range for imshow with RGB data ([0..1] for floats or [0..255] for integers).\n"
     ]
    },
    {
     "data": {
      "image/png": "[encoded data removed]",
      "text/plain": [
       "<Figure size 432x288 with 1 Axes>"
      ]
     },
     "metadata": {
      "needs_background": "light"
     },
     "output_type": "display_data"
    }
   ],
   "source": [
    "show_corner_bb(np.moveaxis(test_batch[0][0].cpu().numpy(), 0, 2), bb.detach().cpu().numpy().astype(int)[0])"
   ]
  },
  {
   "cell_type": "markdown",
   "metadata": {
    "id": "1_d-G2QDtfhV"
   },
   "source": [
    "# **YoloV5**"
   ]
  },
  {
   "cell_type": "code",
   "execution_count": 36,
   "metadata": {
    "executionInfo": {
     "elapsed": 20,
     "status": "ok",
     "timestamp": 1668518547014,
     "user": {
      "displayName": "tru projects",
      "userId": "10140123910494422627"
     },
     "user_tz": -330
    },
    "id": "aZ0F-ruowDYn"
   },
   "outputs": [],
   "source": [
    "import torch\n",
    "from IPython.display import Image\n",
    "import shutil\n",
    "import os\n",
    "from random import choice"
   ]
  },
  {
   "cell_type": "code",
   "execution_count": 37,
   "metadata": {
    "colab": {
     "base_uri": "https://localhost:8080/"
    },
    "executionInfo": {
     "elapsed": 1925,
     "status": "ok",
     "timestamp": 1668518548921,
     "user": {
      "displayName": "tru projects",
      "userId": "10140123910494422627"
     },
     "user_tz": -330
    },
    "id": "8elCCNWnwEBn",
    "outputId": "cdcaaa9d-eff2-42cd-86f7-b7446499c122"
   },
   "outputs": [
    {
     "name": "stdout",
     "output_type": "stream",
     "text": [
      "Cloning into 'yolov5'...\n",
      "remote: Enumerating objects: 15017, done.\u001b[K\n",
      "remote: Counting objects: 100% (57/57), done.\u001b[K\n",
      "remote: Compressing objects: 100% (36/36), done.\u001b[K\n",
      "remote: Total 15017 (delta 34), reused 39 (delta 21), pack-reused 14960\u001b[K\n",
      "Receiving objects: 100% (15017/15017), 13.63 MiB | 11.92 MiB/s, done.\n",
      "Resolving deltas: 100% (10375/10375), done.\n"
     ]
    }
   ],
   "source": [
    "!git clone https://github.com/ultralytics/yolov5"
   ]
  },
  {
   "cell_type": "code",
   "execution_count": 38,
   "metadata": {
    "colab": {
     "base_uri": "https://localhost:8080/"
    },
    "executionInfo": {
     "elapsed": 16,
     "status": "ok",
     "timestamp": 1668518548923,
     "user": {
      "displayName": "tru projects",
      "userId": "10140123910494422627"
     },
     "user_tz": -330
    },
    "id": "m4eq7M4QwGYx",
    "outputId": "2f509444-4d20-4869-b5be-ea0a411c112c"
   },
   "outputs": [
    {
     "name": "stdout",
     "output_type": "stream",
     "text": [
      "/content/yolov5\n"
     ]
    }
   ],
   "source": [
    "%cd /content/yolov5/"
   ]
  },
  {
   "cell_type": "code",
   "execution_count": 39,
   "metadata": {
    "colab": {
     "base_uri": "https://localhost:8080/"
    },
    "executionInfo": {
     "elapsed": 5062,
     "status": "ok",
     "timestamp": 1668518553975,
     "user": {
      "displayName": "tru projects",
      "userId": "10140123910494422627"
     },
     "user_tz": -330
    },
    "id": "jZivwxlnwH8V",
    "outputId": "8783f986-c248-4463-b6ef-e34fd21f23ce"
   },
   "outputs": [
    {
     "name": "stdout",
     "output_type": "stream",
     "text": [
      "Looking in indexes: https://pypi.org/simple, https://us-python.pkg.dev/colab-wheels/public/simple/\n",
      "Requirement already satisfied: ipython in /usr/local/lib/python3.7/dist-packages (from -r requirements.txt (line 5)) (7.9.0)\n",
      "Requirement already satisfied: matplotlib>=3.2.2 in /usr/local/lib/python3.7/dist-packages (from -r requirements.txt (line 6)) (3.2.2)\n",
      "Requirement already satisfied: numpy>=1.18.5 in /usr/local/lib/python3.7/dist-packages (from -r requirements.txt (line 7)) (1.21.6)\n",
      "Requirement already satisfied: opencv-python>=4.1.1 in /usr/local/lib/python3.7/dist-packages (from -r requirements.txt (line 8)) (4.6.0.66)\n",
      "Requirement already satisfied: Pillow>=7.1.2 in /usr/local/lib/python3.7/dist-packages (from -r requirements.txt (line 9)) (7.1.2)\n",
      "Requirement already satisfied: psutil in /usr/local/lib/python3.7/dist-packages (from -r requirements.txt (line 10)) (5.4.8)\n",
      "Requirement already satisfied: PyYAML>=5.3.1 in /usr/local/lib/python3.7/dist-packages (from -r requirements.txt (line 11)) (6.0)\n",
      "Requirement already satisfied: requests>=2.23.0 in /usr/local/lib/python3.7/dist-packages (from -r requirements.txt (line 12)) (2.23.0)\n",
      "Requirement already satisfied: scipy>=1.4.1 in /usr/local/lib/python3.7/dist-packages (from -r requirements.txt (line 13)) (1.7.3)\n",
      "Collecting thop>=0.1.1\n",
      "  Downloading thop-0.1.1.post2209072238-py3-none-any.whl (15 kB)\n",
      "Requirement already satisfied: torch>=1.7.0 in /usr/local/lib/python3.7/dist-packages (from -r requirements.txt (line 15)) (1.12.1+cu113)\n",
      "Requirement already satisfied: torchvision>=0.8.1 in /usr/local/lib/python3.7/dist-packages (from -r requirements.txt (line 16)) (0.13.1+cu113)\n",
      "Requirement already satisfied: tqdm>=4.64.0 in /usr/local/lib/python3.7/dist-packages (from -r requirements.txt (line 17)) (4.64.1)\n",
      "Requirement already satisfied: tensorboard>=2.4.1 in /usr/local/lib/python3.7/dist-packages (from -r requirements.txt (line 21)) (2.9.1)\n",
      "Requirement already satisfied: pandas>=1.1.4 in /usr/local/lib/python3.7/dist-packages (from -r requirements.txt (line 26)) (1.3.5)\n",
      "Requirement already satisfied: seaborn>=0.11.0 in /usr/local/lib/python3.7/dist-packages (from -r requirements.txt (line 27)) (0.11.2)\n",
      "Requirement already satisfied: cycler>=0.10 in /usr/local/lib/python3.7/dist-packages (from matplotlib>=3.2.2->-r requirements.txt (line 6)) (0.11.0)\n",
      "Requirement already satisfied: python-dateutil>=2.1 in /usr/local/lib/python3.7/dist-packages (from matplotlib>=3.2.2->-r requirements.txt (line 6)) (2.8.2)\n",
      "Requirement already satisfied: pyparsing!=2.0.4,!=2.1.2,!=2.1.6,>=2.0.1 in /usr/local/lib/python3.7/dist-packages (from matplotlib>=3.2.2->-r requirements.txt (line 6)) (3.0.9)\n",
      "Requirement already satisfied: kiwisolver>=1.0.1 in /usr/local/lib/python3.7/dist-packages (from matplotlib>=3.2.2->-r requirements.txt (line 6)) (1.4.4)\n",
      "Requirement already satisfied: urllib3!=1.25.0,!=1.25.1,<1.26,>=1.21.1 in /usr/local/lib/python3.7/dist-packages (from requests>=2.23.0->-r requirements.txt (line 12)) (1.24.3)\n",
      "Requirement already satisfied: idna<3,>=2.5 in /usr/local/lib/python3.7/dist-packages (from requests>=2.23.0->-r requirements.txt (line 12)) (2.10)\n",
      "Requirement already satisfied: chardet<4,>=3.0.2 in /usr/local/lib/python3.7/dist-packages (from requests>=2.23.0->-r requirements.txt (line 12)) (3.0.4)\n",
      "Requirement already satisfied: certifi>=2017.4.17 in /usr/local/lib/python3.7/dist-packages (from requests>=2.23.0->-r requirements.txt (line 12)) (2022.9.24)\n",
      "Requirement already satisfied: typing-extensions in /usr/local/lib/python3.7/dist-packages (from torch>=1.7.0->-r requirements.txt (line 15)) (4.1.1)\n",
      "Requirement already satisfied: tensorboard-data-server<0.7.0,>=0.6.0 in /usr/local/lib/python3.7/dist-packages (from tensorboard>=2.4.1->-r requirements.txt (line 21)) (0.6.1)\n",
      "Requirement already satisfied: protobuf<3.20,>=3.9.2 in /usr/local/lib/python3.7/dist-packages (from tensorboard>=2.4.1->-r requirements.txt (line 21)) (3.19.6)\n",
      "Requirement already satisfied: google-auth-oauthlib<0.5,>=0.4.1 in /usr/local/lib/python3.7/dist-packages (from tensorboard>=2.4.1->-r requirements.txt (line 21)) (0.4.6)\n",
      "Requirement already satisfied: werkzeug>=1.0.1 in /usr/local/lib/python3.7/dist-packages (from tensorboard>=2.4.1->-r requirements.txt (line 21)) (1.0.1)\n",
      "Requirement already satisfied: setuptools>=41.0.0 in /usr/local/lib/python3.7/dist-packages (from tensorboard>=2.4.1->-r requirements.txt (line 21)) (57.4.0)\n",
      "Requirement already satisfied: absl-py>=0.4 in /usr/local/lib/python3.7/dist-packages (from tensorboard>=2.4.1->-r requirements.txt (line 21)) (1.3.0)\n",
      "Requirement already satisfied: grpcio>=1.24.3 in /usr/local/lib/python3.7/dist-packages (from tensorboard>=2.4.1->-r requirements.txt (line 21)) (1.50.0)\n",
      "Requirement already satisfied: wheel>=0.26 in /usr/local/lib/python3.7/dist-packages (from tensorboard>=2.4.1->-r requirements.txt (line 21)) (0.38.3)\n",
      "Requirement already satisfied: google-auth<3,>=1.6.3 in /usr/local/lib/python3.7/dist-packages (from tensorboard>=2.4.1->-r requirements.txt (line 21)) (2.14.1)\n",
      "Requirement already satisfied: tensorboard-plugin-wit>=1.6.0 in /usr/local/lib/python3.7/dist-packages (from tensorboard>=2.4.1->-r requirements.txt (line 21)) (1.8.1)\n",
      "Requirement already satisfied: markdown>=2.6.8 in /usr/local/lib/python3.7/dist-packages (from tensorboard>=2.4.1->-r requirements.txt (line 21)) (3.4.1)\n",
      "Requirement already satisfied: pytz>=2017.3 in /usr/local/lib/python3.7/dist-packages (from pandas>=1.1.4->-r requirements.txt (line 26)) (2022.6)\n",
      "Requirement already satisfied: rsa<5,>=3.1.4 in /usr/local/lib/python3.7/dist-packages (from google-auth<3,>=1.6.3->tensorboard>=2.4.1->-r requirements.txt (line 21)) (4.9)\n",
      "Requirement already satisfied: six>=1.9.0 in /usr/local/lib/python3.7/dist-packages (from google-auth<3,>=1.6.3->tensorboard>=2.4.1->-r requirements.txt (line 21)) (1.15.0)\n",
      "Requirement already satisfied: pyasn1-modules>=0.2.1 in /usr/local/lib/python3.7/dist-packages (from google-auth<3,>=1.6.3->tensorboard>=2.4.1->-r requirements.txt (line 21)) (0.2.8)\n",
      "Requirement already satisfied: cachetools<6.0,>=2.0.0 in /usr/local/lib/python3.7/dist-packages (from google-auth<3,>=1.6.3->tensorboard>=2.4.1->-r requirements.txt (line 21)) (5.2.0)\n",
      "Requirement already satisfied: requests-oauthlib>=0.7.0 in /usr/local/lib/python3.7/dist-packages (from google-auth-oauthlib<0.5,>=0.4.1->tensorboard>=2.4.1->-r requirements.txt (line 21)) (1.3.1)\n",
      "Requirement already satisfied: importlib-metadata>=4.4 in /usr/local/lib/python3.7/dist-packages (from markdown>=2.6.8->tensorboard>=2.4.1->-r requirements.txt (line 21)) (4.13.0)\n",
      "Requirement already satisfied: zipp>=0.5 in /usr/local/lib/python3.7/dist-packages (from importlib-metadata>=4.4->markdown>=2.6.8->tensorboard>=2.4.1->-r requirements.txt (line 21)) (3.10.0)\n",
      "Requirement already satisfied: pyasn1<0.5.0,>=0.4.6 in /usr/local/lib/python3.7/dist-packages (from pyasn1-modules>=0.2.1->google-auth<3,>=1.6.3->tensorboard>=2.4.1->-r requirements.txt (line 21)) (0.4.8)\n",
      "Requirement already satisfied: oauthlib>=3.0.0 in /usr/local/lib/python3.7/dist-packages (from requests-oauthlib>=0.7.0->google-auth-oauthlib<0.5,>=0.4.1->tensorboard>=2.4.1->-r requirements.txt (line 21)) (3.2.2)\n",
      "Requirement already satisfied: pexpect in /usr/local/lib/python3.7/dist-packages (from ipython->-r requirements.txt (line 5)) (4.8.0)\n",
      "Collecting jedi>=0.10\n",
      "  Downloading jedi-0.18.1-py2.py3-none-any.whl (1.6 MB)\n",
      "\u001b[K     |████████████████████████████████| 1.6 MB 34.8 MB/s \n",
      "\u001b[?25hRequirement already satisfied: decorator in /usr/local/lib/python3.7/dist-packages (from ipython->-r requirements.txt (line 5)) (4.4.2)\n",
      "Requirement already satisfied: prompt-toolkit<2.1.0,>=2.0.0 in /usr/local/lib/python3.7/dist-packages (from ipython->-r requirements.txt (line 5)) (2.0.10)\n",
      "Requirement already satisfied: backcall in /usr/local/lib/python3.7/dist-packages (from ipython->-r requirements.txt (line 5)) (0.2.0)\n",
      "Requirement already satisfied: pickleshare in /usr/local/lib/python3.7/dist-packages (from ipython->-r requirements.txt (line 5)) (0.7.5)\n",
      "Requirement already satisfied: pygments in /usr/local/lib/python3.7/dist-packages (from ipython->-r requirements.txt (line 5)) (2.6.1)\n",
      "Requirement already satisfied: traitlets>=4.2 in /usr/local/lib/python3.7/dist-packages (from ipython->-r requirements.txt (line 5)) (5.1.1)\n",
      "Requirement already satisfied: parso<0.9.0,>=0.8.0 in /usr/local/lib/python3.7/dist-packages (from jedi>=0.10->ipython->-r requirements.txt (line 5)) (0.8.3)\n",
      "Requirement already satisfied: wcwidth in /usr/local/lib/python3.7/dist-packages (from prompt-toolkit<2.1.0,>=2.0.0->ipython->-r requirements.txt (line 5)) (0.2.5)\n",
      "Requirement already satisfied: ptyprocess>=0.5 in /usr/local/lib/python3.7/dist-packages (from pexpect->ipython->-r requirements.txt (line 5)) (0.7.0)\n",
      "Installing collected packages: jedi, thop\n",
      "Successfully installed jedi-0.18.1 thop-0.1.1.post2209072238\n"
     ]
    }
   ],
   "source": [
    "!pip install -r requirements.txt"
   ]
  },
  {
   "cell_type": "code",
   "execution_count": 40,
   "metadata": {
    "colab": {
     "base_uri": "https://localhost:8080/"
    },
    "executionInfo": {
     "elapsed": 29,
     "status": "ok",
     "timestamp": 1668518553976,
     "user": {
      "displayName": "tru projects",
      "userId": "10140123910494422627"
     },
     "user_tz": -330
    },
    "id": "5CJaQPAxwICd",
    "outputId": "168ca723-68cd-428f-c6ec-0ea0299aba0d"
   },
   "outputs": [
    {
     "name": "stdout",
     "output_type": "stream",
     "text": [
      "training images are :  1412\n",
      "validation images are :  353\n"
     ]
    }
   ],
   "source": [
    "# arrays to store file names\n",
    "imgs = []\n",
    "xmls = []\n",
    "\n",
    "# setup directory names\n",
    "train_path = \"/content/drive/MyDrive/helmet/train/images\"\n",
    "val_path = \"/content/drive/MyDrive/helmet/valid/images\"\n",
    "crs_path = \"/content/drive/MyDrive/helmet/images\"\n",
    "\n",
    "train_ratio = 0.8\n",
    "val_ratio = 0.2\n",
    "\n",
    "# total count of imgs\n",
    "total_img_count = len(os.listdir(crs_path))/2\n",
    "\n",
    "# sorting count of imgs\n",
    "for (dirname,dirs, files) in os.walk(crs_path):\n",
    "#     print(files)\n",
    "    for filename in files:\n",
    "#         print(\"hello\")\n",
    "        if filename.endswith(\".txt\"):\n",
    "            xmls.append(filename)\n",
    "        else:\n",
    "            imgs.append(filename)\n",
    "\n",
    "# counting range for cycles\n",
    "count_for_train = int(len(imgs)*train_ratio)\n",
    "count_for_val = int(len(imgs)*val_ratio)\n",
    "print(\"training images are : \",count_for_train)\n",
    "print(\"validation images are : \",count_for_val)"
   ]
  },
  {
   "cell_type": "code",
   "execution_count": 41,
   "metadata": {
    "colab": {
     "base_uri": "https://localhost:8080/"
    },
    "executionInfo": {
     "elapsed": 14,
     "status": "ok",
     "timestamp": 1668518553976,
     "user": {
      "displayName": "tru projects",
      "userId": "10140123910494422627"
     },
     "user_tz": -330
    },
    "id": "E9HOCH-awMf0",
    "outputId": "ed561e89-1d61-4219-9641-6488c597f51a"
   },
   "outputs": [
    {
     "data": {
      "text/plain": [
       "1766"
      ]
     },
     "execution_count": 41,
     "metadata": {},
     "output_type": "execute_result"
    }
   ],
   "source": [
    "len(imgs)"
   ]
  },
  {
   "cell_type": "code",
   "execution_count": 42,
   "metadata": {
    "colab": {
     "base_uri": "https://localhost:8080/"
    },
    "executionInfo": {
     "elapsed": 500386,
     "status": "ok",
     "timestamp": 1668519054354,
     "user": {
      "displayName": "tru projects",
      "userId": "10140123910494422627"
     },
     "user_tz": -330
    },
    "id": "xFIMwvBLwObO",
    "outputId": "1f714b0e-5ce8-47ef-e46b-f43e46c799f0"
   },
   "outputs": [
    {
     "name": "stdout",
     "output_type": "stream",
     "text": [
      "images length -  1\n",
      "['006116_jpg.rf.7f926577c075e60979b150006fa92d93.jpg'] ['006116_jpg.rf.7f926577c075e60979b150006fa92d93.txt']\n"
     ]
    }
   ],
   "source": [
    "train_image_path = \"/content/drive/MyDrive/helmet/train/images\"\n",
    "train_label_path = \"/content/drive/MyDrive/helmet/train/labels\"\n",
    "val_image_path = \"/content/drive/MyDrive/helmet/valid/images\"\n",
    "val_label_path = \"/content/drive/MyDrive/helmet/valid/labels\"\n",
    "\n",
    "if not os.path.isdir(train_image_path):\n",
    "    os.makedirs(train_image_path)\n",
    "if not os.path.isdir(train_label_path):\n",
    "    os.makedirs(train_label_path)\n",
    "if not os.path.isdir(val_image_path):\n",
    "    os.makedirs(val_image_path)\n",
    "if not os.path.isdir(val_label_path):\n",
    "    os.makedirs(val_label_path)\n",
    "\n",
    "# cycle for train dir\n",
    "for x in range(count_for_train):\n",
    "    file_jpg = choice(imgs)\n",
    "    file_xml = file_jpg[:-4] + \".txt\"\n",
    "    \n",
    "    shutil.copy(os.path.join(crs_path,file_jpg),os.path.join(train_image_path,file_jpg))\n",
    "    shutil.copy(os.path.join(crs_path,file_xml),os.path.join(train_label_path,file_xml))\n",
    "    \n",
    "    imgs.remove(file_jpg)\n",
    "    xmls.remove(file_xml)\n",
    "    \n",
    "# cycle for test dir\n",
    "for x in range(count_for_val):\n",
    "    file_jpg = choice(imgs)\n",
    "    file_xml = file_jpg[:-4] + \".txt\"\n",
    "    \n",
    "    shutil.copy(os.path.join(crs_path,file_jpg),os.path.join(val_image_path,file_jpg))\n",
    "    shutil.copy(os.path.join(crs_path,file_xml),os.path.join(val_label_path,file_xml))\n",
    "    \n",
    "    imgs.remove(file_jpg)\n",
    "    xmls.remove(file_xml)\n",
    "\n",
    "# rest of files\n",
    "print(\"images length - \",len(imgs))\n",
    "print(imgs,xmls)\n",
    "for x in imgs:\n",
    "    file_jpg = x\n",
    "    file_xml = file_jpg[:-4] + \".txt\"\n",
    "    \n",
    "    shutil.copy(os.path.join(crs_path,file_jpg),os.path.join(val_image_path,file_jpg))\n",
    "    shutil.copy(os.path.join(crs_path,file_xml),os.path.join(val_label_path,file_xml))\n",
    "# shutil.copytree(crs_path,val_path)"
   ]
  },
  {
   "cell_type": "code",
   "execution_count": 43,
   "metadata": {
    "colab": {
     "base_uri": "https://localhost:8080/"
    },
    "executionInfo": {
     "elapsed": 39,
     "status": "ok",
     "timestamp": 1668519054355,
     "user": {
      "displayName": "tru projects",
      "userId": "10140123910494422627"
     },
     "user_tz": -330
    },
    "id": "nOQr2cnkwT8R",
    "outputId": "a9e2ad02-80b7-44c6-fe86-658f49a4b3d1"
   },
   "outputs": [
    {
     "name": "stdout",
     "output_type": "stream",
     "text": [
      "['train: /content/drive/MyDrive/helmet/train/images\\n', 'val: /content/drive/MyDrive/helmet/valid/images\\n', '\\n', 'nc: 3\\n', \"names: ['head', 'helmet', 'person']\"]\n"
     ]
    }
   ],
   "source": [
    "with open(r'/content/drive/MyDrive/helmet/data.yaml', 'r') as file:\n",
    "    lines = file.readlines()\n",
    "    print(lines)"
   ]
  },
  {
   "cell_type": "code",
   "execution_count": 44,
   "metadata": {
    "colab": {
     "base_uri": "https://localhost:8080/"
    },
    "executionInfo": {
     "elapsed": 9402722,
     "status": "ok",
     "timestamp": 1668528457042,
     "user": {
      "displayName": "tru projects",
      "userId": "10140123910494422627"
     },
     "user_tz": -330
    },
    "id": "ReTz1As2wW_8",
    "outputId": "20042689-ac50-4678-8ee7-6d33bcde8de7"
   },
   "outputs": [
    {
     "name": "stdout",
     "output_type": "stream",
     "text": [
      "/bin/bash: wandb: command not found\n",
      "\u001b[34m\u001b[1mtrain: \u001b[0mweights=yolov5s.pt, cfg=, data=/content/drive/MyDrive/helmet/data.yaml, hyp=data/hyps/hyp.scratch-low.yaml, epochs=50, batch_size=16, imgsz=415, rect=False, resume=False, nosave=False, noval=False, noautoanchor=False, noplots=False, evolve=None, bucket=, cache=ram, image_weights=False, device=, multi_scale=False, single_cls=False, optimizer=SGD, sync_bn=False, workers=2, project=runs/train, name=exp, exist_ok=False, quad=False, cos_lr=False, label_smoothing=0.0, patience=100, freeze=[0], save_period=-1, seed=0, local_rank=-1, entity=None, upload_dataset=False, bbox_interval=-1, artifact_alias=latest\n",
      "\u001b[34m\u001b[1mgithub: \u001b[0mup to date with https://github.com/ultralytics/yolov5 ✅\n",
      "YOLOv5 🚀 v6.2-241-gea73386 Python-3.7.15 torch-1.12.1+cu113 CUDA:0 (Tesla T4, 15110MiB)\n",
      "\n",
      "\u001b[34m\u001b[1mhyperparameters: \u001b[0mlr0=0.01, lrf=0.01, momentum=0.937, weight_decay=0.0005, warmup_epochs=3.0, warmup_momentum=0.8, warmup_bias_lr=0.1, box=0.05, cls=0.5, cls_pw=1.0, obj=1.0, obj_pw=1.0, iou_t=0.2, anchor_t=4.0, fl_gamma=0.0, hsv_h=0.015, hsv_s=0.7, hsv_v=0.4, degrees=0.0, translate=0.1, scale=0.5, shear=0.0, perspective=0.0, flipud=0.0, fliplr=0.5, mosaic=1.0, mixup=0.0, copy_paste=0.0\n",
      "\u001b[34m\u001b[1mClearML: \u001b[0mrun 'pip install clearml' to automatically track, visualize and remotely train YOLOv5 🚀 in ClearML\n",
      "\u001b[34m\u001b[1mComet: \u001b[0mrun 'pip install comet_ml' to automatically track and visualize YOLOv5 🚀 runs in Comet\n",
      "\u001b[34m\u001b[1mTensorBoard: \u001b[0mStart with 'tensorboard --logdir runs/train', view at http://localhost:6006/\n",
      "Downloading https://ultralytics.com/assets/Arial.ttf to /root/.config/Ultralytics/Arial.ttf...\n",
      "100% 755k/755k [00:00<00:00, 164MB/s]\n",
      "Downloading https://github.com/ultralytics/yolov5/releases/download/v6.2/yolov5s.pt to yolov5s.pt...\n",
      "100% 14.1M/14.1M [00:00<00:00, 50.8MB/s]\n",
      "\n",
      "Overriding model.yaml nc=80 with nc=3\n",
      "\n",
      "                 from  n    params  module                                  arguments                     \n",
      "  0                -1  1      3520  models.common.Conv                      [3, 32, 6, 2, 2]              \n",
      "  1                -1  1     18560  models.common.Conv                      [32, 64, 3, 2]                \n",
      "  2                -1  1     18816  models.common.C3                        [64, 64, 1]                   \n",
      "  3                -1  1     73984  models.common.Conv                      [64, 128, 3, 2]               \n",
      "  4                -1  2    115712  models.common.C3                        [128, 128, 2]                 \n",
      "  5                -1  1    295424  models.common.Conv                      [128, 256, 3, 2]              \n",
      "  6                -1  3    625152  models.common.C3                        [256, 256, 3]                 \n",
      "  7                -1  1   1180672  models.common.Conv                      [256, 512, 3, 2]              \n",
      "  8                -1  1   1182720  models.common.C3                        [512, 512, 1]                 \n",
      "  9                -1  1    656896  models.common.SPPF                      [512, 512, 5]                 \n",
      " 10                -1  1    131584  models.common.Conv                      [512, 256, 1, 1]              \n",
      " 11                -1  1         0  torch.nn.modules.upsampling.Upsample    [None, 2, 'nearest']          \n",
      " 12           [-1, 6]  1         0  models.common.Concat                    [1]                           \n",
      " 13                -1  1    361984  models.common.C3                        [512, 256, 1, False]          \n",
      " 14                -1  1     33024  models.common.Conv                      [256, 128, 1, 1]              \n",
      " 15                -1  1         0  torch.nn.modules.upsampling.Upsample    [None, 2, 'nearest']          \n",
      " 16           [-1, 4]  1         0  models.common.Concat                    [1]                           \n",
      " 17                -1  1     90880  models.common.C3                        [256, 128, 1, False]          \n",
      " 18                -1  1    147712  models.common.Conv                      [128, 128, 3, 2]              \n",
      " 19          [-1, 14]  1         0  models.common.Concat                    [1]                           \n",
      " 20                -1  1    296448  models.common.C3                        [256, 256, 1, False]          \n",
      " 21                -1  1    590336  models.common.Conv                      [256, 256, 3, 2]              \n",
      " 22          [-1, 10]  1         0  models.common.Concat                    [1]                           \n",
      " 23                -1  1   1182720  models.common.C3                        [512, 512, 1, False]          \n",
      " 24      [17, 20, 23]  1     21576  models.yolo.Detect                      [3, [[10, 13, 16, 30, 33, 23], [30, 61, 62, 45, 59, 119], [116, 90, 156, 198, 373, 326]], [128, 256, 512]]\n",
      "Model summary: 214 layers, 7027720 parameters, 7027720 gradients, 16.0 GFLOPs\n",
      "\n",
      "Transferred 343/349 items from yolov5s.pt\n",
      "\u001b[34m\u001b[1mAMP: \u001b[0mchecks passed ✅\n",
      "WARNING ⚠️ --img-size 415 must be multiple of max stride 32, updating to 416\n",
      "\u001b[34m\u001b[1moptimizer:\u001b[0m SGD(lr=0.01) with parameter groups 57 weight(decay=0.0), 60 weight(decay=0.0005), 60 bias\n",
      "\u001b[34m\u001b[1malbumentations: \u001b[0mBlur(p=0.01, blur_limit=(3, 7)), MedianBlur(p=0.01, blur_limit=(3, 7)), ToGray(p=0.01), CLAHE(p=0.01, clip_limit=(1, 4.0), tile_grid_size=(8, 8))\n",
      "\u001b[34m\u001b[1mtrain: \u001b[0mScanning '/content/drive/MyDrive/helmet/train/labels' images and labels...6681 found, 0 missing, 0 empty, 0 corrupt: 100% 6681/6681 [1:09:23<00:00,  1.60it/s] \n",
      "\u001b[34m\u001b[1mtrain: \u001b[0mNew cache created: /content/drive/MyDrive/helmet/train/labels.cache\n",
      "\u001b[34m\u001b[1mtrain: \u001b[0mCaching images (2.2GB ram): 100% 6681/6681 [00:27<00:00, 243.32it/s]\n",
      "\u001b[34m\u001b[1mval: \u001b[0mScanning '/content/drive/MyDrive/helmet/valid/labels' images and labels...1766 found, 0 missing, 0 empty, 0 corrupt: 100% 1766/1766 [13:23<00:00,  2.20it/s]\n",
      "\u001b[34m\u001b[1mval: \u001b[0mNew cache created: /content/drive/MyDrive/helmet/valid/labels.cache\n",
      "\u001b[34m\u001b[1mval: \u001b[0mCaching images (0.6GB ram): 100% 1766/1766 [00:10<00:00, 165.47it/s]\n",
      "\n",
      "\u001b[34m\u001b[1mAutoAnchor: \u001b[0m5.62 anchors/target, 1.000 Best Possible Recall (BPR). Current anchors are a good fit to dataset ✅\n",
      "Plotting labels to runs/train/exp/labels.jpg... \n",
      "Image sizes 416 train, 416 val\n",
      "Using 2 dataloader workers\n",
      "Logging results to \u001b[1mruns/train/exp\u001b[0m\n",
      "Starting training for 50 epochs...\n",
      "\n",
      "      Epoch    GPU_mem   box_loss   obj_loss   cls_loss  Instances       Size\n",
      "       0/49      1.71G    0.07502    0.03508     0.0235         43        416: 100% 418/418 [01:19<00:00,  5.27it/s]\n",
      "                 Class     Images  Instances          P          R      mAP50   mAP50-95: 100% 56/56 [00:12<00:00,  4.35it/s]\n",
      "                   all       1766       6808      0.704      0.455      0.445      0.181\n",
      "\n",
      "      Epoch    GPU_mem   box_loss   obj_loss   cls_loss  Instances       Size\n",
      "       1/49      2.34G    0.05387    0.02734   0.009958         69        416: 100% 418/418 [01:14<00:00,  5.64it/s]\n",
      "                 Class     Images  Instances          P          R      mAP50   mAP50-95: 100% 56/56 [00:10<00:00,  5.19it/s]\n",
      "                   all       1766       6808      0.881      0.552      0.591      0.277\n",
      "\n",
      "      Epoch    GPU_mem   box_loss   obj_loss   cls_loss  Instances       Size\n",
      "       2/49      2.34G    0.04828    0.02602   0.006247         76        416: 100% 418/418 [01:15<00:00,  5.55it/s]\n",
      "                 Class     Images  Instances          P          R      mAP50   mAP50-95: 100% 56/56 [00:10<00:00,  5.25it/s]\n",
      "                   all       1766       6808      0.876      0.586       0.61       0.33\n",
      "\n",
      "      Epoch    GPU_mem   box_loss   obj_loss   cls_loss  Instances       Size\n",
      "       3/49      2.34G    0.04283    0.02513   0.005286         61        416: 100% 418/418 [01:13<00:00,  5.72it/s]\n",
      "                 Class     Images  Instances          P          R      mAP50   mAP50-95: 100% 56/56 [00:10<00:00,  5.32it/s]\n",
      "                   all       1766       6808      0.963      0.604      0.647      0.394\n",
      "\n",
      "      Epoch    GPU_mem   box_loss   obj_loss   cls_loss  Instances       Size\n",
      "       4/49      2.34G    0.03971    0.02476   0.004585         70        416: 100% 418/418 [01:12<00:00,  5.73it/s]\n",
      "                 Class     Images  Instances          P          R      mAP50   mAP50-95: 100% 56/56 [00:10<00:00,  5.27it/s]\n",
      "                   all       1766       6808      0.961      0.609      0.656      0.408\n",
      "\n",
      "      Epoch    GPU_mem   box_loss   obj_loss   cls_loss  Instances       Size\n",
      "       5/49      2.34G    0.03707    0.02416   0.004047         49        416: 100% 418/418 [01:13<00:00,  5.71it/s]\n",
      "                 Class     Images  Instances          P          R      mAP50   mAP50-95: 100% 56/56 [00:10<00:00,  5.22it/s]\n",
      "                   all       1766       6808      0.959      0.604      0.662      0.421\n",
      "\n",
      "      Epoch    GPU_mem   box_loss   obj_loss   cls_loss  Instances       Size\n",
      "       6/49      2.34G    0.03553    0.02393   0.003825         50        416: 100% 418/418 [01:13<00:00,  5.66it/s]\n",
      "                 Class     Images  Instances          P          R      mAP50   mAP50-95: 100% 56/56 [00:11<00:00,  4.68it/s]\n",
      "                   all       1766       6808      0.959      0.611      0.665      0.416\n",
      "\n",
      "      Epoch    GPU_mem   box_loss   obj_loss   cls_loss  Instances       Size\n",
      "       7/49      2.34G    0.03428    0.02362   0.003366         54        416: 100% 418/418 [01:15<00:00,  5.56it/s]\n",
      "                 Class     Images  Instances          P          R      mAP50   mAP50-95: 100% 56/56 [00:10<00:00,  5.19it/s]\n",
      "                   all       1766       6808      0.963      0.612       0.67      0.434\n",
      "\n",
      "      Epoch    GPU_mem   box_loss   obj_loss   cls_loss  Instances       Size\n",
      "       8/49      2.34G    0.03331    0.02342   0.003406         43        416: 100% 418/418 [01:14<00:00,  5.58it/s]\n",
      "                 Class     Images  Instances          P          R      mAP50   mAP50-95: 100% 56/56 [00:10<00:00,  5.13it/s]\n",
      "                   all       1766       6808       0.96      0.617      0.678      0.446\n",
      "\n",
      "      Epoch    GPU_mem   box_loss   obj_loss   cls_loss  Instances       Size\n",
      "       9/49      2.34G    0.03324    0.02345   0.003227         48        416: 100% 418/418 [01:15<00:00,  5.53it/s]\n",
      "                 Class     Images  Instances          P          R      mAP50   mAP50-95: 100% 56/56 [00:10<00:00,  5.12it/s]\n",
      "                   all       1766       6808      0.693      0.704      0.723      0.469\n",
      "\n",
      "      Epoch    GPU_mem   box_loss   obj_loss   cls_loss  Instances       Size\n",
      "      10/49      2.34G    0.03219    0.02279   0.002965         36        416: 100% 418/418 [01:15<00:00,  5.57it/s]\n",
      "                 Class     Images  Instances          P          R      mAP50   mAP50-95: 100% 56/56 [00:11<00:00,  4.99it/s]\n",
      "                   all       1766       6808      0.701      0.701      0.722      0.468\n",
      "\n",
      "      Epoch    GPU_mem   box_loss   obj_loss   cls_loss  Instances       Size\n",
      "      11/49      2.34G    0.03175    0.02247    0.00297         77        416: 100% 418/418 [01:16<00:00,  5.43it/s]\n",
      "                 Class     Images  Instances          P          R      mAP50   mAP50-95: 100% 56/56 [00:10<00:00,  5.13it/s]\n",
      "                   all       1766       6808      0.659      0.697      0.713      0.469\n",
      "\n",
      "      Epoch    GPU_mem   box_loss   obj_loss   cls_loss  Instances       Size\n",
      "      12/49      2.34G    0.03139    0.02251   0.002688         62        416: 100% 418/418 [01:15<00:00,  5.53it/s]\n",
      "                 Class     Images  Instances          P          R      mAP50   mAP50-95: 100% 56/56 [00:10<00:00,  5.09it/s]\n",
      "                   all       1766       6808      0.745      0.716      0.746      0.486\n",
      "\n",
      "      Epoch    GPU_mem   box_loss   obj_loss   cls_loss  Instances       Size\n",
      "      13/49      2.34G    0.03103    0.02219   0.002728         64        416: 100% 418/418 [01:15<00:00,  5.51it/s]\n",
      "                 Class     Images  Instances          P          R      mAP50   mAP50-95: 100% 56/56 [00:10<00:00,  5.19it/s]\n",
      "                   all       1766       6808      0.706      0.718      0.716      0.476\n",
      "\n",
      "      Epoch    GPU_mem   box_loss   obj_loss   cls_loss  Instances       Size\n",
      "      14/49      2.34G     0.0307    0.02207   0.002745         53        416: 100% 418/418 [01:14<00:00,  5.61it/s]\n",
      "                 Class     Images  Instances          P          R      mAP50   mAP50-95: 100% 56/56 [00:10<00:00,  5.17it/s]\n",
      "                   all       1766       6808      0.778      0.764      0.788      0.514\n",
      "\n",
      "      Epoch    GPU_mem   box_loss   obj_loss   cls_loss  Instances       Size\n",
      "      15/49      2.34G    0.03047     0.0221   0.002392         65        416: 100% 418/418 [01:15<00:00,  5.55it/s]\n",
      "                 Class     Images  Instances          P          R      mAP50   mAP50-95: 100% 56/56 [00:10<00:00,  5.23it/s]\n",
      "                   all       1766       6808      0.745      0.757      0.771      0.504\n",
      "\n",
      "      Epoch    GPU_mem   box_loss   obj_loss   cls_loss  Instances       Size\n",
      "      16/49      2.34G    0.03025     0.0217   0.002511         37        416: 100% 418/418 [01:16<00:00,  5.44it/s]\n",
      "                 Class     Images  Instances          P          R      mAP50   mAP50-95: 100% 56/56 [00:10<00:00,  5.22it/s]\n",
      "                   all       1766       6808      0.842      0.753      0.794      0.523\n",
      "\n",
      "      Epoch    GPU_mem   box_loss   obj_loss   cls_loss  Instances       Size\n",
      "      17/49      2.34G    0.02986    0.02161   0.002324         77        416: 100% 418/418 [01:14<00:00,  5.62it/s]\n",
      "                 Class     Images  Instances          P          R      mAP50   mAP50-95: 100% 56/56 [00:10<00:00,  5.19it/s]\n",
      "                   all       1766       6808      0.843      0.778      0.819      0.529\n",
      "\n",
      "      Epoch    GPU_mem   box_loss   obj_loss   cls_loss  Instances       Size\n",
      "      18/49      2.34G    0.02951    0.02141   0.002235         52        416: 100% 418/418 [01:14<00:00,  5.62it/s]\n",
      "                 Class     Images  Instances          P          R      mAP50   mAP50-95: 100% 56/56 [00:10<00:00,  5.19it/s]\n",
      "                   all       1766       6808      0.873      0.778      0.834      0.552\n",
      "\n",
      "      Epoch    GPU_mem   box_loss   obj_loss   cls_loss  Instances       Size\n",
      "      19/49      2.34G    0.02936    0.02122   0.002289         36        416: 100% 418/418 [01:15<00:00,  5.56it/s]\n",
      "                 Class     Images  Instances          P          R      mAP50   mAP50-95: 100% 56/56 [00:10<00:00,  5.14it/s]\n",
      "                   all       1766       6808      0.882      0.802       0.85      0.561\n",
      "\n",
      "      Epoch    GPU_mem   box_loss   obj_loss   cls_loss  Instances       Size\n",
      "      20/49      2.34G    0.02924    0.02141   0.002174         65        416: 100% 418/418 [01:17<00:00,  5.41it/s]\n",
      "                 Class     Images  Instances          P          R      mAP50   mAP50-95: 100% 56/56 [00:10<00:00,  5.22it/s]\n",
      "                   all       1766       6808      0.858      0.805      0.836      0.553\n",
      "\n",
      "      Epoch    GPU_mem   box_loss   obj_loss   cls_loss  Instances       Size\n",
      "      21/49      2.34G    0.02893    0.02115    0.00214         56        416: 100% 418/418 [01:14<00:00,  5.61it/s]\n",
      "                 Class     Images  Instances          P          R      mAP50   mAP50-95: 100% 56/56 [00:10<00:00,  5.15it/s]\n",
      "                   all       1766       6808      0.878      0.833      0.868      0.586\n",
      "\n",
      "      Epoch    GPU_mem   box_loss   obj_loss   cls_loss  Instances       Size\n",
      "      22/49      2.34G    0.02877    0.02082   0.002083         57        416: 100% 418/418 [01:14<00:00,  5.60it/s]\n",
      "                 Class     Images  Instances          P          R      mAP50   mAP50-95: 100% 56/56 [00:10<00:00,  5.14it/s]\n",
      "                   all       1766       6808      0.876      0.849      0.869      0.586\n",
      "\n",
      "      Epoch    GPU_mem   box_loss   obj_loss   cls_loss  Instances       Size\n",
      "      23/49      2.34G    0.02871    0.02059   0.002096         81        416: 100% 418/418 [01:14<00:00,  5.61it/s]\n",
      "                 Class     Images  Instances          P          R      mAP50   mAP50-95: 100% 56/56 [00:10<00:00,  5.14it/s]\n",
      "                   all       1766       6808      0.915      0.812      0.868      0.586\n",
      "\n",
      "      Epoch    GPU_mem   box_loss   obj_loss   cls_loss  Instances       Size\n",
      "      24/49      2.34G    0.02841    0.02052   0.001973         81        416: 100% 418/418 [01:13<00:00,  5.66it/s]\n",
      "                 Class     Images  Instances          P          R      mAP50   mAP50-95: 100% 56/56 [00:10<00:00,  5.20it/s]\n",
      "                   all       1766       6808      0.871      0.856      0.885      0.602\n",
      "\n",
      "      Epoch    GPU_mem   box_loss   obj_loss   cls_loss  Instances       Size\n",
      "      25/49      2.34G    0.02829    0.02073    0.00195         25        416: 100% 418/418 [01:16<00:00,  5.43it/s]\n",
      "                 Class     Images  Instances          P          R      mAP50   mAP50-95: 100% 56/56 [00:10<00:00,  5.15it/s]\n",
      "                   all       1766       6808      0.882      0.855      0.873        0.6\n",
      "\n",
      "      Epoch    GPU_mem   box_loss   obj_loss   cls_loss  Instances       Size\n",
      "      26/49      2.34G    0.02821    0.02035   0.001953         57        416: 100% 418/418 [01:16<00:00,  5.49it/s]\n",
      "                 Class     Images  Instances          P          R      mAP50   mAP50-95: 100% 56/56 [00:11<00:00,  5.02it/s]\n",
      "                   all       1766       6808      0.901      0.847      0.865      0.591\n",
      "\n",
      "      Epoch    GPU_mem   box_loss   obj_loss   cls_loss  Instances       Size\n",
      "      27/49      2.34G    0.02814    0.02038   0.001935         77        416: 100% 418/418 [01:17<00:00,  5.43it/s]\n",
      "                 Class     Images  Instances          P          R      mAP50   mAP50-95: 100% 56/56 [00:10<00:00,  5.13it/s]\n",
      "                   all       1766       6808      0.898      0.857      0.882      0.601\n",
      "\n",
      "      Epoch    GPU_mem   box_loss   obj_loss   cls_loss  Instances       Size\n",
      "      28/49      2.34G    0.02795    0.02051   0.001733         30        416: 100% 418/418 [01:16<00:00,  5.47it/s]\n",
      "                 Class     Images  Instances          P          R      mAP50   mAP50-95: 100% 56/56 [00:11<00:00,  5.08it/s]\n",
      "                   all       1766       6808      0.923      0.842      0.886      0.604\n",
      "\n",
      "      Epoch    GPU_mem   box_loss   obj_loss   cls_loss  Instances       Size\n",
      "      29/49      2.34G    0.02739    0.01983   0.001824         55        416: 100% 418/418 [01:14<00:00,  5.61it/s]\n",
      "                 Class     Images  Instances          P          R      mAP50   mAP50-95: 100% 56/56 [00:12<00:00,  4.59it/s]\n",
      "                   all       1766       6808      0.928      0.862      0.904       0.63\n",
      "\n",
      "      Epoch    GPU_mem   box_loss   obj_loss   cls_loss  Instances       Size\n",
      "      30/49      2.34G    0.02757    0.02017   0.001755         82        416: 100% 418/418 [01:15<00:00,  5.54it/s]\n",
      "                 Class     Images  Instances          P          R      mAP50   mAP50-95: 100% 56/56 [00:11<00:00,  5.07it/s]\n",
      "                   all       1766       6808      0.911      0.867      0.895      0.619\n",
      "\n",
      "      Epoch    GPU_mem   box_loss   obj_loss   cls_loss  Instances       Size\n",
      "      31/49      2.34G    0.02736    0.02008   0.001773         93        416: 100% 418/418 [01:17<00:00,  5.42it/s]\n",
      "                 Class     Images  Instances          P          R      mAP50   mAP50-95: 100% 56/56 [00:10<00:00,  5.09it/s]\n",
      "                   all       1766       6808      0.919      0.863       0.89      0.622\n",
      "\n",
      "      Epoch    GPU_mem   box_loss   obj_loss   cls_loss  Instances       Size\n",
      "      32/49      2.34G    0.02719    0.01987   0.001619         90        416: 100% 418/418 [01:16<00:00,  5.46it/s]\n",
      "                 Class     Images  Instances          P          R      mAP50   mAP50-95: 100% 56/56 [00:11<00:00,  5.08it/s]\n",
      "                   all       1766       6808      0.904      0.866      0.892      0.625\n",
      "\n",
      "      Epoch    GPU_mem   box_loss   obj_loss   cls_loss  Instances       Size\n",
      "      33/49      2.34G    0.02712    0.01976   0.001595         78        416: 100% 418/418 [01:16<00:00,  5.48it/s]\n",
      "                 Class     Images  Instances          P          R      mAP50   mAP50-95: 100% 56/56 [00:10<00:00,  5.12it/s]\n",
      "                   all       1766       6808      0.933      0.869      0.899       0.63\n",
      "\n",
      "      Epoch    GPU_mem   box_loss   obj_loss   cls_loss  Instances       Size\n",
      "      34/49      2.34G    0.02698    0.01953   0.001576         39        416: 100% 418/418 [01:17<00:00,  5.38it/s]\n",
      "                 Class     Images  Instances          P          R      mAP50   mAP50-95: 100% 56/56 [00:10<00:00,  5.19it/s]\n",
      "                   all       1766       6808      0.931       0.87      0.897      0.629\n",
      "\n",
      "      Epoch    GPU_mem   box_loss   obj_loss   cls_loss  Instances       Size\n",
      "      35/49      2.34G    0.02667    0.01937   0.001531         62        416: 100% 418/418 [01:14<00:00,  5.64it/s]\n",
      "                 Class     Images  Instances          P          R      mAP50   mAP50-95: 100% 56/56 [00:10<00:00,  5.19it/s]\n",
      "                   all       1766       6808      0.932      0.882      0.902      0.636\n",
      "\n",
      "      Epoch    GPU_mem   box_loss   obj_loss   cls_loss  Instances       Size\n",
      "      36/49      2.34G    0.02666    0.01965   0.001391         48        416: 100% 418/418 [01:14<00:00,  5.61it/s]\n",
      "                 Class     Images  Instances          P          R      mAP50   mAP50-95: 100% 56/56 [00:10<00:00,  5.18it/s]\n",
      "                   all       1766       6808      0.932      0.899      0.902      0.642\n",
      "\n",
      "      Epoch    GPU_mem   box_loss   obj_loss   cls_loss  Instances       Size\n",
      "      37/49      2.34G     0.0265    0.01948   0.001479         47        416: 100% 418/418 [01:14<00:00,  5.61it/s]\n",
      "                 Class     Images  Instances          P          R      mAP50   mAP50-95: 100% 56/56 [00:10<00:00,  5.17it/s]\n",
      "                   all       1766       6808      0.932      0.892      0.912      0.653\n",
      "\n",
      "      Epoch    GPU_mem   box_loss   obj_loss   cls_loss  Instances       Size\n",
      "      38/49      2.34G    0.02613    0.01926   0.001439         42        416: 100% 418/418 [01:16<00:00,  5.47it/s]\n",
      "                 Class     Images  Instances          P          R      mAP50   mAP50-95: 100% 56/56 [00:10<00:00,  5.21it/s]\n",
      "                   all       1766       6808      0.932      0.895      0.914      0.657\n",
      "\n",
      "      Epoch    GPU_mem   box_loss   obj_loss   cls_loss  Instances       Size\n",
      "      39/49      2.34G    0.02623    0.01923    0.00139         66        416: 100% 418/418 [01:14<00:00,  5.62it/s]\n",
      "                 Class     Images  Instances          P          R      mAP50   mAP50-95: 100% 56/56 [00:10<00:00,  5.25it/s]\n",
      "                   all       1766       6808      0.945      0.898      0.914      0.653\n",
      "\n",
      "      Epoch    GPU_mem   box_loss   obj_loss   cls_loss  Instances       Size\n",
      "      40/49      2.34G    0.02624     0.0192   0.001419         61        416: 100% 418/418 [01:14<00:00,  5.59it/s]\n",
      "                 Class     Images  Instances          P          R      mAP50   mAP50-95: 100% 56/56 [00:10<00:00,  5.15it/s]\n",
      "                   all       1766       6808       0.94      0.885      0.906      0.649\n",
      "\n",
      "      Epoch    GPU_mem   box_loss   obj_loss   cls_loss  Instances       Size\n",
      "      41/49      2.34G    0.02606    0.01901    0.00134         51        416: 100% 418/418 [01:14<00:00,  5.58it/s]\n",
      "                 Class     Images  Instances          P          R      mAP50   mAP50-95: 100% 56/56 [00:10<00:00,  5.16it/s]\n",
      "                   all       1766       6808      0.947        0.9      0.911      0.654\n",
      "\n",
      "      Epoch    GPU_mem   box_loss   obj_loss   cls_loss  Instances       Size\n",
      "      42/49      2.34G    0.02572    0.01892   0.001362         61        416: 100% 418/418 [01:14<00:00,  5.60it/s]\n",
      "                 Class     Images  Instances          P          R      mAP50   mAP50-95: 100% 56/56 [00:11<00:00,  5.09it/s]\n",
      "                   all       1766       6808      0.938      0.895      0.912      0.657\n",
      "\n",
      "      Epoch    GPU_mem   box_loss   obj_loss   cls_loss  Instances       Size\n",
      "      43/49      2.34G    0.02575    0.01918   0.001414         53        416: 100% 418/418 [01:18<00:00,  5.35it/s]\n",
      "                 Class     Images  Instances          P          R      mAP50   mAP50-95: 100% 56/56 [00:10<00:00,  5.18it/s]\n",
      "                   all       1766       6808      0.949      0.891      0.915      0.662\n",
      "\n",
      "      Epoch    GPU_mem   box_loss   obj_loss   cls_loss  Instances       Size\n",
      "      44/49      2.34G    0.02571      0.019   0.001264         78        416: 100% 418/418 [01:15<00:00,  5.56it/s]\n",
      "                 Class     Images  Instances          P          R      mAP50   mAP50-95: 100% 56/56 [00:10<00:00,  5.11it/s]\n",
      "                   all       1766       6808      0.946       0.89      0.915      0.665\n",
      "\n",
      "      Epoch    GPU_mem   box_loss   obj_loss   cls_loss  Instances       Size\n",
      "      45/49      2.34G    0.02538    0.01868   0.001161         41        416: 100% 418/418 [01:14<00:00,  5.57it/s]\n",
      "                 Class     Images  Instances          P          R      mAP50   mAP50-95: 100% 56/56 [00:10<00:00,  5.26it/s]\n",
      "                   all       1766       6808      0.942      0.895      0.911      0.659\n",
      "\n",
      "      Epoch    GPU_mem   box_loss   obj_loss   cls_loss  Instances       Size\n",
      "      46/49      2.34G    0.02535    0.01845    0.00127         29        416: 100% 418/418 [01:14<00:00,  5.65it/s]\n",
      "                 Class     Images  Instances          P          R      mAP50   mAP50-95: 100% 56/56 [00:10<00:00,  5.20it/s]\n",
      "                   all       1766       6808      0.953      0.891      0.917      0.667\n",
      "\n",
      "      Epoch    GPU_mem   box_loss   obj_loss   cls_loss  Instances       Size\n",
      "      47/49      2.34G    0.02521    0.01839    0.00125         47        416: 100% 418/418 [01:16<00:00,  5.47it/s]\n",
      "                 Class     Images  Instances          P          R      mAP50   mAP50-95: 100% 56/56 [00:10<00:00,  5.20it/s]\n",
      "                   all       1766       6808      0.943      0.894       0.91      0.665\n",
      "\n",
      "      Epoch    GPU_mem   box_loss   obj_loss   cls_loss  Instances       Size\n",
      "      48/49      2.34G     0.0252    0.01828    0.00112         43        416: 100% 418/418 [01:14<00:00,  5.60it/s]\n",
      "                 Class     Images  Instances          P          R      mAP50   mAP50-95: 100% 56/56 [00:10<00:00,  5.15it/s]\n",
      "                   all       1766       6808      0.923      0.902      0.906      0.663\n",
      "\n",
      "      Epoch    GPU_mem   box_loss   obj_loss   cls_loss  Instances       Size\n",
      "      49/49      2.34G    0.02525    0.01884   0.001264        102        416: 100% 418/418 [01:15<00:00,  5.57it/s]\n",
      "                 Class     Images  Instances          P          R      mAP50   mAP50-95: 100% 56/56 [00:10<00:00,  5.16it/s]\n",
      "                   all       1766       6808      0.932      0.899      0.909      0.663\n",
      "\n",
      "50 epochs completed in 1.206 hours.\n",
      "Optimizer stripped from runs/train/exp/weights/last.pt, 14.3MB\n",
      "Optimizer stripped from runs/train/exp/weights/best.pt, 14.3MB\n",
      "\n",
      "Validating runs/train/exp/weights/best.pt...\n",
      "Fusing layers... \n",
      "Model summary: 157 layers, 7018216 parameters, 0 gradients, 15.8 GFLOPs\n",
      "                 Class     Images  Instances          P          R      mAP50   mAP50-95: 100% 56/56 [00:14<00:00,  3.92it/s]\n",
      "                   all       1766       6808      0.952      0.893      0.917      0.667\n",
      "                  head       1766       1803      0.964      0.947      0.983      0.696\n",
      "                helmet       1766       4863      0.975      0.957      0.991      0.718\n",
      "                person       1766        142      0.917      0.775      0.776      0.588\n",
      "Results saved to \u001b[1mruns/train/exp\u001b[0m\n"
     ]
    }
   ],
   "source": [
    "!wandb disabled\n",
    "!python train.py --img 415 --batch 16 --epochs 50 --data /content/drive/MyDrive/helmet/data.yaml --weights yolov5s.pt --cache --workers 2"
   ]
  },
  {
   "cell_type": "code",
   "execution_count": 45,
   "metadata": {
    "colab": {
     "base_uri": "https://localhost:8080/"
    },
    "executionInfo": {
     "elapsed": 3728,
     "status": "ok",
     "timestamp": 1668528460744,
     "user": {
      "displayName": "tru projects",
      "userId": "10140123910494422627"
     },
     "user_tz": -330
    },
    "id": "e2BJjSnUwa3Y",
    "outputId": "90439810-38e1-48a1-c136-5c3b7796d818"
   },
   "outputs": [
    {
     "name": "stdout",
     "output_type": "stream",
     "text": [
      "  adding: content/yolov5/ (stored 0%)\n",
      "  adding: content/yolov5/export.py (deflated 71%)\n",
      "  adding: content/yolov5/requirements.txt (deflated 56%)\n",
      "  adding: content/yolov5/README.md (deflated 79%)\n",
      "  adding: content/yolov5/LICENSE (deflated 66%)\n",
      "  adding: content/yolov5/train.py (deflated 69%)\n",
      "  adding: content/yolov5/setup.cfg (deflated 44%)\n",
      "  adding: content/yolov5/detect.py (deflated 68%)\n",
      "  adding: content/yolov5/.github/ (stored 0%)\n",
      "  adding: content/yolov5/.github/README_cn.md (deflated 75%)\n",
      "  adding: content/yolov5/.github/dependabot.yml (deflated 60%)\n",
      "  adding: content/yolov5/.github/ISSUE_TEMPLATE/ (stored 0%)\n",
      "  adding: content/yolov5/.github/ISSUE_TEMPLATE/config.yml (deflated 36%)\n",
      "  adding: content/yolov5/.github/ISSUE_TEMPLATE/question.yml (deflated 57%)\n",
      "  adding: content/yolov5/.github/ISSUE_TEMPLATE/bug-report.yml (deflated 59%)\n",
      "  adding: content/yolov5/.github/ISSUE_TEMPLATE/feature-request.yml (deflated 61%)\n",
      "  adding: content/yolov5/.github/workflows/ (stored 0%)\n",
      "  adding: content/yolov5/.github/workflows/stale.yml (deflated 59%)\n",
      "  adding: content/yolov5/.github/workflows/codeql-analysis.yml (deflated 52%)\n",
      "  adding: content/yolov5/.github/workflows/ci-testing.yml (deflated 73%)\n",
      "  adding: content/yolov5/.github/workflows/docker.yml (deflated 67%)\n",
      "  adding: content/yolov5/.github/workflows/greetings.yml (deflated 61%)\n",
      "  adding: content/yolov5/.github/PULL_REQUEST_TEMPLATE.md (deflated 40%)\n",
      "  adding: content/yolov5/.github/SECURITY.md (deflated 33%)\n",
      "  adding: content/yolov5/.github/CODE_OF_CONDUCT.md (deflated 60%)\n",
      "  adding: content/yolov5/utils/ (stored 0%)\n",
      "  adding: content/yolov5/utils/docker/ (stored 0%)\n",
      "  adding: content/yolov5/utils/docker/Dockerfile-arm64 (deflated 51%)\n",
      "  adding: content/yolov5/utils/docker/Dockerfile (deflated 55%)\n",
      "  adding: content/yolov5/utils/docker/Dockerfile-cpu (deflated 52%)\n",
      "  adding: content/yolov5/utils/aws/ (stored 0%)\n",
      "  adding: content/yolov5/utils/aws/userdata.sh (deflated 47%)\n",
      "  adding: content/yolov5/utils/aws/__init__.py (stored 0%)\n",
      "  adding: content/yolov5/utils/aws/resume.py (deflated 46%)\n",
      "  adding: content/yolov5/utils/aws/mime.sh (deflated 46%)\n",
      "  adding: content/yolov5/utils/torch_utils.py (deflated 64%)\n",
      "  adding: content/yolov5/utils/plots.py (deflated 66%)\n",
      "  adding: content/yolov5/utils/google_app_engine/ (stored 0%)\n",
      "  adding: content/yolov5/utils/google_app_engine/Dockerfile (deflated 47%)\n",
      "  adding: content/yolov5/utils/google_app_engine/app.yaml (deflated 26%)\n",
      "  adding: content/yolov5/utils/google_app_engine/additional_requirements.txt (deflated 10%)\n",
      "  adding: content/yolov5/utils/__init__.py (deflated 52%)\n",
      "  adding: content/yolov5/utils/loggers/ (stored 0%)\n",
      "  adding: content/yolov5/utils/loggers/clearml/ (stored 0%)\n",
      "  adding: content/yolov5/utils/loggers/clearml/clearml_utils.py (deflated 65%)\n",
      "  adding: content/yolov5/utils/loggers/clearml/README.md (deflated 59%)\n",
      "  adding: content/yolov5/utils/loggers/clearml/__init__.py (stored 0%)\n",
      "  adding: content/yolov5/utils/loggers/clearml/__pycache__/ (stored 0%)\n",
      "  adding: content/yolov5/utils/loggers/clearml/__pycache__/clearml_utils.cpython-37.pyc (deflated 44%)\n",
      "  adding: content/yolov5/utils/loggers/clearml/__pycache__/__init__.cpython-37.pyc (deflated 21%)\n",
      "  adding: content/yolov5/utils/loggers/clearml/hpo.py (deflated 71%)\n",
      "  adding: content/yolov5/utils/loggers/comet/ (stored 0%)\n",
      "  adding: content/yolov5/utils/loggers/comet/README.md (deflated 63%)\n",
      "  adding: content/yolov5/utils/loggers/comet/__init__.py (deflated 74%)\n",
      "  adding: content/yolov5/utils/loggers/comet/comet_utils.py (deflated 69%)\n",
      "  adding: content/yolov5/utils/loggers/comet/__pycache__/ (stored 0%)\n",
      "  adding: content/yolov5/utils/loggers/comet/__pycache__/__init__.cpython-37.pyc (deflated 51%)\n",
      "  adding: content/yolov5/utils/loggers/comet/__pycache__/comet_utils.cpython-37.pyc (deflated 47%)\n",
      "  adding: content/yolov5/utils/loggers/comet/hpo.py (deflated 68%)\n",
      "  adding: content/yolov5/utils/loggers/comet/optimizer_config.json (deflated 85%)\n",
      "  adding: content/yolov5/utils/loggers/__init__.py (deflated 73%)\n",
      "  adding: content/yolov5/utils/loggers/wandb/ (stored 0%)\n",
      "  adding: content/yolov5/utils/loggers/wandb/sweep.yaml (deflated 73%)\n",
      "  adding: content/yolov5/utils/loggers/wandb/wandb_utils.py (deflated 75%)\n",
      "  adding: content/yolov5/utils/loggers/wandb/README.md (deflated 62%)\n",
      "  adding: content/yolov5/utils/loggers/wandb/log_dataset.py (deflated 52%)\n",
      "  adding: content/yolov5/utils/loggers/wandb/__init__.py (stored 0%)\n",
      "  adding: content/yolov5/utils/loggers/wandb/sweep.py (deflated 53%)\n",
      "  adding: content/yolov5/utils/loggers/wandb/__pycache__/ (stored 0%)\n",
      "  adding: content/yolov5/utils/loggers/wandb/__pycache__/__init__.cpython-37.pyc (deflated 22%)\n",
      "  adding: content/yolov5/utils/loggers/wandb/__pycache__/wandb_utils.cpython-37.pyc (deflated 52%)\n",
      "  adding: content/yolov5/utils/loggers/__pycache__/ (stored 0%)\n",
      "  adding: content/yolov5/utils/loggers/__pycache__/__init__.cpython-37.pyc (deflated 51%)\n",
      "  adding: content/yolov5/utils/callbacks.py (deflated 68%)\n",
      "  adding: content/yolov5/utils/metrics.py (deflated 66%)\n",
      "  adding: content/yolov5/utils/flask_rest_api/ (stored 0%)\n",
      "  adding: content/yolov5/utils/flask_rest_api/README.md (deflated 52%)\n",
      "  adding: content/yolov5/utils/flask_rest_api/restapi.py (deflated 48%)\n",
      "  adding: content/yolov5/utils/flask_rest_api/example_request.py (deflated 26%)\n",
      "  adding: content/yolov5/utils/autoanchor.py (deflated 60%)\n",
      "  adding: content/yolov5/utils/segment/ (stored 0%)\n",
      "  adding: content/yolov5/utils/segment/plots.py (deflated 64%)\n",
      "  adding: content/yolov5/utils/segment/__init__.py (stored 0%)\n",
      "  adding: content/yolov5/utils/segment/metrics.py (deflated 76%)\n",
      "  adding: content/yolov5/utils/segment/loss.py (deflated 66%)\n",
      "  adding: content/yolov5/utils/segment/dataloaders.py (deflated 72%)\n",
      "  adding: content/yolov5/utils/segment/augmentations.py (deflated 62%)\n",
      "  adding: content/yolov5/utils/segment/__pycache__/ (stored 0%)\n",
      "  adding: content/yolov5/utils/segment/__pycache__/__init__.cpython-37.pyc (deflated 25%)\n",
      "  adding: content/yolov5/utils/segment/__pycache__/general.cpython-37.pyc (deflated 49%)\n",
      "  adding: content/yolov5/utils/segment/general.py (deflated 67%)\n",
      "  adding: content/yolov5/utils/downloads.py (deflated 60%)\n",
      "  adding: content/yolov5/utils/autobatch.py (deflated 56%)\n",
      "  adding: content/yolov5/utils/activations.py (deflated 68%)\n",
      "  adding: content/yolov5/utils/loss.py (deflated 69%)\n",
      "  adding: content/yolov5/utils/dataloaders.py (deflated 71%)\n",
      "  adding: content/yolov5/utils/triton.py (deflated 67%)\n",
      "  adding: content/yolov5/utils/augmentations.py (deflated 65%)\n",
      "  adding: content/yolov5/utils/__pycache__/ (stored 0%)\n",
      "  adding: content/yolov5/utils/__pycache__/torch_utils.cpython-37.pyc (deflated 45%)\n",
      "  adding: content/yolov5/utils/__pycache__/autobatch.cpython-37.pyc (deflated 35%)\n",
      "  adding: content/yolov5/utils/__pycache__/__init__.cpython-37.pyc (deflated 40%)\n",
      "  adding: content/yolov5/utils/__pycache__/callbacks.cpython-37.pyc (deflated 54%)\n",
      "  adding: content/yolov5/utils/__pycache__/augmentations.cpython-37.pyc (deflated 48%)\n",
      "  adding: content/yolov5/utils/__pycache__/dataloaders.cpython-37.pyc (deflated 52%)\n",
      "  adding: content/yolov5/utils/__pycache__/loss.cpython-37.pyc (deflated 47%)\n",
      "  adding: content/yolov5/utils/__pycache__/metrics.cpython-37.pyc (deflated 47%)\n",
      "  adding: content/yolov5/utils/__pycache__/general.cpython-37.pyc (deflated 50%)\n",
      "  adding: content/yolov5/utils/__pycache__/autoanchor.cpython-37.pyc (deflated 42%)\n",
      "  adding: content/yolov5/utils/__pycache__/plots.cpython-37.pyc (deflated 46%)\n",
      "  adding: content/yolov5/utils/__pycache__/downloads.cpython-37.pyc (deflated 40%)\n",
      "  adding: content/yolov5/utils/general.py (deflated 66%)\n",
      "  adding: content/yolov5/val.py (deflated 67%)\n",
      "  adding: content/yolov5/benchmarks.py (deflated 68%)\n",
      "  adding: content/yolov5/segment/ (stored 0%)\n",
      "  adding: content/yolov5/segment/train.py (deflated 69%)\n",
      "  adding: content/yolov5/segment/val.py (deflated 68%)\n",
      "  adding: content/yolov5/segment/tutorial.ipynb (deflated 77%)\n",
      "  adding: content/yolov5/segment/predict.py (deflated 69%)\n",
      "  adding: content/yolov5/data/ (stored 0%)\n",
      "  adding: content/yolov5/data/ImageNet.yaml (deflated 54%)\n",
      "  adding: content/yolov5/data/coco.yaml (deflated 49%)\n",
      "  adding: content/yolov5/data/VisDrone.yaml (deflated 59%)\n",
      "  adding: content/yolov5/data/images/ (stored 0%)\n",
      "  adding: content/yolov5/data/images/bus.jpg (deflated 1%)\n",
      "  adding: content/yolov5/data/images/zidane.jpg (deflated 0%)\n",
      "  adding: content/yolov5/data/xView.yaml (deflated 57%)\n",
      "  adding: content/yolov5/data/GlobalWheat2020.yaml (deflated 54%)\n",
      "  adding: content/yolov5/data/VOC.yaml (deflated 55%)\n",
      "  adding: content/yolov5/data/Argoverse.yaml (deflated 55%)\n",
      "  adding: content/yolov5/data/coco128-seg.yaml (deflated 47%)\n",
      "  adding: content/yolov5/data/SKU-110K.yaml (deflated 52%)\n",
      "  adding: content/yolov5/data/scripts/ (stored 0%)\n",
      "  adding: content/yolov5/data/scripts/get_coco128.sh (deflated 36%)\n",
      "  adding: content/yolov5/data/scripts/get_coco.sh (deflated 60%)\n",
      "  adding: content/yolov5/data/scripts/get_imagenet.sh (deflated 53%)\n",
      "  adding: content/yolov5/data/scripts/download_weights.sh (deflated 39%)\n",
      "  adding: content/yolov5/data/Objects365.yaml (deflated 53%)\n",
      "  adding: content/yolov5/data/hyps/ (stored 0%)\n",
      "  adding: content/yolov5/data/hyps/hyp.scratch-low.yaml (deflated 54%)\n",
      "  adding: content/yolov5/data/hyps/hyp.scratch-med.yaml (deflated 53%)\n",
      "  adding: content/yolov5/data/hyps/hyp.scratch-high.yaml (deflated 53%)\n",
      "  adding: content/yolov5/data/hyps/hyp.VOC.yaml (deflated 48%)\n",
      "  adding: content/yolov5/data/hyps/hyp.Objects365.yaml (deflated 40%)\n",
      "  adding: content/yolov5/data/coco128.yaml (deflated 47%)\n",
      "  adding: content/yolov5/tutorial.ipynb (deflated 78%)\n",
      "  adding: content/yolov5/__pycache__/ (stored 0%)\n",
      "  adding: content/yolov5/__pycache__/val.cpython-37.pyc (deflated 43%)\n",
      "  adding: content/yolov5/.dockerignore (deflated 56%)\n",
      "  adding: content/yolov5/yolov5s.pt (deflated 9%)\n",
      "  adding: content/yolov5/classify/ (stored 0%)\n",
      "  adding: content/yolov5/classify/train.py (deflated 66%)\n",
      "  adding: content/yolov5/classify/val.py (deflated 66%)\n",
      "  adding: content/yolov5/classify/predict.py (deflated 68%)\n",
      "  adding: content/yolov5/.gitignore (deflated 55%)\n",
      "  adding: content/yolov5/hubconf.py (deflated 73%)\n",
      "  adding: content/yolov5/.pre-commit-config.yaml (deflated 60%)\n",
      "  adding: content/yolov5/runs/ (stored 0%)\n",
      "  adding: content/yolov5/runs/train/ (stored 0%)\n",
      "  adding: content/yolov5/runs/train/exp/ (stored 0%)\n",
      "  adding: content/yolov5/runs/train/exp/val_batch0_pred.jpg (deflated 10%)\n",
      "  adding: content/yolov5/runs/train/exp/val_batch2_pred.jpg (deflated 9%)\n",
      "  adding: content/yolov5/runs/train/exp/val_batch1_labels.jpg (deflated 8%)\n",
      "  adding: content/yolov5/runs/train/exp/val_batch2_labels.jpg (deflated 9%)\n",
      "  adding: content/yolov5/runs/train/exp/events.out.tfevents.1668519059.4639f6eef8af.7077.0 (deflated 34%)\n",
      "  adding: content/yolov5/runs/train/exp/labels_correlogram.jpg (deflated 18%)\n",
      "  adding: content/yolov5/runs/train/exp/R_curve.png (deflated 11%)\n",
      "  adding: content/yolov5/runs/train/exp/results.png (deflated 9%)\n",
      "  adding: content/yolov5/runs/train/exp/results.csv (deflated 83%)\n",
      "  adding: content/yolov5/runs/train/exp/PR_curve.png (deflated 14%)\n",
      "  adding: content/yolov5/runs/train/exp/train_batch1.jpg (deflated 3%)\n",
      "  adding: content/yolov5/runs/train/exp/opt.yaml (deflated 48%)\n",
      "  adding: content/yolov5/runs/train/exp/train_batch0.jpg (deflated 3%)\n",
      "  adding: content/yolov5/runs/train/exp/confusion_matrix.png (deflated 29%)\n",
      "  adding: content/yolov5/runs/train/exp/hyp.yaml (deflated 45%)\n",
      "  adding: content/yolov5/runs/train/exp/val_batch1_pred.jpg (deflated 8%)\n",
      "  adding: content/yolov5/runs/train/exp/F1_curve.png (deflated 9%)\n",
      "  adding: content/yolov5/runs/train/exp/train_batch2.jpg (deflated 3%)\n",
      "  adding: content/yolov5/runs/train/exp/weights/ (stored 0%)\n",
      "  adding: content/yolov5/runs/train/exp/weights/last.pt (deflated 8%)\n",
      "  adding: content/yolov5/runs/train/exp/weights/best.pt (deflated 8%)\n",
      "  adding: content/yolov5/runs/train/exp/labels.jpg (deflated 20%)\n",
      "  adding: content/yolov5/runs/train/exp/P_curve.png (deflated 11%)\n",
      "  adding: content/yolov5/runs/train/exp/val_batch0_labels.jpg (deflated 10%)\n",
      "  adding: content/yolov5/CONTRIBUTING.md (deflated 56%)\n",
      "  adding: content/yolov5/.gitattributes (deflated 4%)\n",
      "  adding: content/yolov5/.git/ (stored 0%)\n",
      "  adding: content/yolov5/.git/objects/ (stored 0%)\n",
      "  adding: content/yolov5/.git/objects/pack/ (stored 0%)\n",
      "  adding: content/yolov5/.git/objects/pack/pack-fac97c553b2d1017a2d127f225f5359089fc1504.idx (deflated 2%)\n",
      "  adding: content/yolov5/.git/objects/pack/pack-fac97c553b2d1017a2d127f225f5359089fc1504.pack (deflated 2%)\n",
      "  adding: content/yolov5/.git/objects/info/ (stored 0%)\n",
      "  adding: content/yolov5/.git/branches/ (stored 0%)\n",
      "  adding: content/yolov5/.git/refs/ (stored 0%)\n",
      "  adding: content/yolov5/.git/refs/heads/ (stored 0%)\n",
      "  adding: content/yolov5/.git/refs/heads/master (stored 0%)\n",
      "  adding: content/yolov5/.git/refs/tags/ (stored 0%)\n",
      "  adding: content/yolov5/.git/refs/remotes/ (stored 0%)\n",
      "  adding: content/yolov5/.git/refs/remotes/origin/ (stored 0%)\n",
      "  adding: content/yolov5/.git/refs/remotes/origin/HEAD (stored 0%)\n",
      "  adding: content/yolov5/.git/hooks/ (stored 0%)\n",
      "  adding: content/yolov5/.git/hooks/applypatch-msg.sample (deflated 42%)\n",
      "  adding: content/yolov5/.git/hooks/prepare-commit-msg.sample (deflated 50%)\n",
      "  adding: content/yolov5/.git/hooks/pre-commit.sample (deflated 43%)\n",
      "  adding: content/yolov5/.git/hooks/pre-receive.sample (deflated 40%)\n",
      "  adding: content/yolov5/.git/hooks/fsmonitor-watchman.sample (deflated 53%)\n",
      "  adding: content/yolov5/.git/hooks/update.sample (deflated 68%)\n",
      "  adding: content/yolov5/.git/hooks/pre-push.sample (deflated 50%)\n",
      "  adding: content/yolov5/.git/hooks/commit-msg.sample (deflated 44%)\n",
      "  adding: content/yolov5/.git/hooks/pre-rebase.sample (deflated 59%)\n",
      "  adding: content/yolov5/.git/hooks/post-update.sample (deflated 27%)\n",
      "  adding: content/yolov5/.git/hooks/pre-applypatch.sample (deflated 38%)\n",
      "  adding: content/yolov5/.git/packed-refs (deflated 52%)\n",
      "  adding: content/yolov5/.git/config (deflated 33%)\n",
      "  adding: content/yolov5/.git/description (deflated 14%)\n",
      "  adding: content/yolov5/.git/info/ (stored 0%)\n",
      "  adding: content/yolov5/.git/info/exclude (deflated 28%)\n",
      "  adding: content/yolov5/.git/FETCH_HEAD (deflated 68%)\n",
      "  adding: content/yolov5/.git/logs/ (stored 0%)\n",
      "  adding: content/yolov5/.git/logs/refs/ (stored 0%)\n",
      "  adding: content/yolov5/.git/logs/refs/heads/ (stored 0%)\n",
      "  adding: content/yolov5/.git/logs/refs/heads/master (deflated 28%)\n",
      "  adding: content/yolov5/.git/logs/refs/remotes/ (stored 0%)\n",
      "  adding: content/yolov5/.git/logs/refs/remotes/origin/ (stored 0%)\n",
      "  adding: content/yolov5/.git/logs/refs/remotes/origin/HEAD (deflated 28%)\n",
      "  adding: content/yolov5/.git/logs/HEAD (deflated 28%)\n",
      "  adding: content/yolov5/.git/HEAD (stored 0%)\n",
      "  adding: content/yolov5/.git/index (deflated 55%)\n",
      "  adding: content/yolov5/models/ (stored 0%)\n",
      "  adding: content/yolov5/models/yolov5l.yaml (deflated 61%)\n",
      "  adding: content/yolov5/models/experimental.py (deflated 59%)\n",
      "  adding: content/yolov5/models/__init__.py (stored 0%)\n",
      "  adding: content/yolov5/models/hub/ (stored 0%)\n",
      "  adding: content/yolov5/models/hub/yolov5-p7.yaml (deflated 69%)\n",
      "  adding: content/yolov5/models/hub/yolov5-panet.yaml (deflated 60%)\n",
      "  adding: content/yolov5/models/hub/yolov5-p2.yaml (deflated 66%)\n",
      "  adding: content/yolov5/models/hub/yolov3-spp.yaml (deflated 63%)\n",
      "  adding: content/yolov5/models/hub/yolov5-fpn.yaml (deflated 57%)\n",
      "  adding: content/yolov5/models/hub/yolov5l6.yaml (deflated 65%)\n",
      "  adding: content/yolov5/models/hub/yolov5m6.yaml (deflated 65%)\n",
      "  adding: content/yolov5/models/hub/yolov5s6.yaml (deflated 65%)\n",
      "  adding: content/yolov5/models/hub/yolov5x6.yaml (deflated 65%)\n",
      "  adding: content/yolov5/models/hub/yolov5s-ghost.yaml (deflated 62%)\n",
      "  adding: content/yolov5/models/hub/yolov5s-transformer.yaml (deflated 60%)\n",
      "  adding: content/yolov5/models/hub/yolov5n6.yaml (deflated 65%)\n",
      "  adding: content/yolov5/models/hub/yolov3-tiny.yaml (deflated 60%)\n",
      "  adding: content/yolov5/models/hub/yolov5-p34.yaml (deflated 62%)\n",
      "  adding: content/yolov5/models/hub/yolov5-p6.yaml (deflated 66%)\n",
      "  adding: content/yolov5/models/hub/anchors.yaml (deflated 72%)\n",
      "  adding: content/yolov5/models/hub/yolov3.yaml (deflated 63%)\n",
      "  adding: content/yolov5/models/hub/yolov5-bifpn.yaml (deflated 60%)\n",
      "  adding: content/yolov5/models/hub/yolov5s-LeakyReLU.yaml (deflated 59%)\n",
      "  adding: content/yolov5/models/segment/ (stored 0%)\n",
      "  adding: content/yolov5/models/segment/yolov5l-seg.yaml (deflated 60%)\n",
      "  adding: content/yolov5/models/segment/yolov5n-seg.yaml (deflated 60%)\n",
      "  adding: content/yolov5/models/segment/yolov5m-seg.yaml (deflated 60%)\n",
      "  adding: content/yolov5/models/segment/yolov5x-seg.yaml (deflated 60%)\n",
      "  adding: content/yolov5/models/segment/yolov5s-seg.yaml (deflated 60%)\n",
      "  adding: content/yolov5/models/__pycache__/ (stored 0%)\n",
      "  adding: content/yolov5/models/__pycache__/__init__.cpython-37.pyc (deflated 26%)\n",
      "  adding: content/yolov5/models/__pycache__/yolo.cpython-37.pyc (deflated 49%)\n",
      "  adding: content/yolov5/models/__pycache__/experimental.cpython-37.pyc (deflated 45%)\n",
      "  adding: content/yolov5/models/__pycache__/common.cpython-37.pyc (deflated 57%)\n",
      "  adding: content/yolov5/models/yolov5n.yaml (deflated 60%)\n",
      "  adding: content/yolov5/models/yolov5x.yaml (deflated 60%)\n",
      "  adding: content/yolov5/models/tf.py (deflated 73%)\n",
      "  adding: content/yolov5/models/yolov5s.yaml (deflated 60%)\n",
      "  adding: content/yolov5/models/common.py (deflated 71%)\n",
      "  adding: content/yolov5/models/yolov5m.yaml (deflated 60%)\n",
      "  adding: content/yolov5/models/yolo.py (deflated 67%)\n"
     ]
    }
   ],
   "source": [
    "!zip -r /content/drive/MyDrive/helmet/file.zip /content/yolov5"
   ]
  }
 ],
 "metadata": {
  "accelerator": "GPU",
  "colab": {
   "collapsed_sections": [],
   "provenance": []
  },
  "gpuClass": "standard",
  "kernelspec": {
   "display_name": "Python 3",
   "language": "python",
   "name": "python3"
  },
  "language_info": {
   "codemirror_mode": {
    "name": "ipython",
    "version": 3
   },
   "file_extension": ".py",
   "mimetype": "text/x-python",
   "name": "python",
   "nbconvert_exporter": "python",
   "pygments_lexer": "ipython3",
   "version": "3.8.8"
  },
  "papermill": {
   "duration": 1956.501745,
   "end_time": "2020-11-25T07:34:03.687920",
   "environment_variables": {},
   "exception": null,
   "input_path": "__notebook__.ipynb",
   "output_path": "__notebook__.ipynb",
   "parameters": {},
   "start_time": "2020-11-25T07:01:27.186175",
   "version": "2.1.0"
  },
  "widgets": {
   "application/vnd.jupyter.widget-state+json": {
    "033c4f7691274a138460be8c208b08d6": {
     "model_module": "@jupyter-widgets/controls",
     "model_module_version": "1.5.0",
     "model_name": "HTMLModel",
     "state": {
      "_dom_classes": [],
      "_model_module": "@jupyter-widgets/controls",
      "_model_module_version": "1.5.0",
      "_model_name": "HTMLModel",
      "_view_count": null,
      "_view_module": "@jupyter-widgets/controls",
      "_view_module_version": "1.5.0",
      "_view_name": "HTMLView",
      "description": "",
      "description_tooltip": null,
      "layout": "IPY_MODEL_6534401018224b7e85b3c3d38fefa9dd",
      "placeholder": "​",
      "style": "IPY_MODEL_3e2d3e8b9ba548a6b1ceb4744977fb03",
      "value": "100%"
     }
    },
    "2b6cbafff5ef46228eab598d9aaae15d": {
     "model_module": "@jupyter-widgets/base",
     "model_module_version": "1.2.0",
     "model_name": "LayoutModel",
     "state": {
      "_model_module": "@jupyter-widgets/base",
      "_model_module_version": "1.2.0",
      "_model_name": "LayoutModel",
      "_view_count": null,
      "_view_module": "@jupyter-widgets/base",
      "_view_module_version": "1.2.0",
      "_view_name": "LayoutView",
      "align_content": null,
      "align_items": null,
      "align_self": null,
      "border": null,
      "bottom": null,
      "display": null,
      "flex": null,
      "flex_flow": null,
      "grid_area": null,
      "grid_auto_columns": null,
      "grid_auto_flow": null,
      "grid_auto_rows": null,
      "grid_column": null,
      "grid_gap": null,
      "grid_row": null,
      "grid_template_areas": null,
      "grid_template_columns": null,
      "grid_template_rows": null,
      "height": null,
      "justify_content": null,
      "justify_items": null,
      "left": null,
      "margin": null,
      "max_height": null,
      "max_width": null,
      "min_height": null,
      "min_width": null,
      "object_fit": null,
      "object_position": null,
      "order": null,
      "overflow": null,
      "overflow_x": null,
      "overflow_y": null,
      "padding": null,
      "right": null,
      "top": null,
      "visibility": null,
      "width": null
     }
    },
    "3e2d3e8b9ba548a6b1ceb4744977fb03": {
     "model_module": "@jupyter-widgets/controls",
     "model_module_version": "1.5.0",
     "model_name": "DescriptionStyleModel",
     "state": {
      "_model_module": "@jupyter-widgets/controls",
      "_model_module_version": "1.5.0",
      "_model_name": "DescriptionStyleModel",
      "_view_count": null,
      "_view_module": "@jupyter-widgets/base",
      "_view_module_version": "1.2.0",
      "_view_name": "StyleView",
      "description_width": ""
     }
    },
    "4dcbfbae5e9b4e5b869a072d8717f616": {
     "model_module": "@jupyter-widgets/controls",
     "model_module_version": "1.5.0",
     "model_name": "DescriptionStyleModel",
     "state": {
      "_model_module": "@jupyter-widgets/controls",
      "_model_module_version": "1.5.0",
      "_model_name": "DescriptionStyleModel",
      "_view_count": null,
      "_view_module": "@jupyter-widgets/base",
      "_view_module_version": "1.2.0",
      "_view_name": "StyleView",
      "description_width": ""
     }
    },
    "6534401018224b7e85b3c3d38fefa9dd": {
     "model_module": "@jupyter-widgets/base",
     "model_module_version": "1.2.0",
     "model_name": "LayoutModel",
     "state": {
      "_model_module": "@jupyter-widgets/base",
      "_model_module_version": "1.2.0",
      "_model_name": "LayoutModel",
      "_view_count": null,
      "_view_module": "@jupyter-widgets/base",
      "_view_module_version": "1.2.0",
      "_view_name": "LayoutView",
      "align_content": null,
      "align_items": null,
      "align_self": null,
      "border": null,
      "bottom": null,
      "display": null,
      "flex": null,
      "flex_flow": null,
      "grid_area": null,
      "grid_auto_columns": null,
      "grid_auto_flow": null,
      "grid_auto_rows": null,
      "grid_column": null,
      "grid_gap": null,
      "grid_row": null,
      "grid_template_areas": null,
      "grid_template_columns": null,
      "grid_template_rows": null,
      "height": null,
      "justify_content": null,
      "justify_items": null,
      "left": null,
      "margin": null,
      "max_height": null,
      "max_width": null,
      "min_height": null,
      "min_width": null,
      "object_fit": null,
      "object_position": null,
      "order": null,
      "overflow": null,
      "overflow_x": null,
      "overflow_y": null,
      "padding": null,
      "right": null,
      "top": null,
      "visibility": null,
      "width": null
     }
    },
    "9c91682b78e846c19d6fdf47ef094cf3": {
     "model_module": "@jupyter-widgets/controls",
     "model_module_version": "1.5.0",
     "model_name": "FloatProgressModel",
     "state": {
      "_dom_classes": [],
      "_model_module": "@jupyter-widgets/controls",
      "_model_module_version": "1.5.0",
      "_model_name": "FloatProgressModel",
      "_view_count": null,
      "_view_module": "@jupyter-widgets/controls",
      "_view_module_version": "1.5.0",
      "_view_name": "ProgressView",
      "bar_style": "success",
      "description": "",
      "description_tooltip": null,
      "layout": "IPY_MODEL_ef931fb5018b482295c89851eeb3fd3d",
      "max": 87319819,
      "min": 0,
      "orientation": "horizontal",
      "style": "IPY_MODEL_d9282da326f74723862ef0b93e54bf7b",
      "value": 87319819
     }
    },
    "af80cd0c6f1344839c6de546e3846bc6": {
     "model_module": "@jupyter-widgets/base",
     "model_module_version": "1.2.0",
     "model_name": "LayoutModel",
     "state": {
      "_model_module": "@jupyter-widgets/base",
      "_model_module_version": "1.2.0",
      "_model_name": "LayoutModel",
      "_view_count": null,
      "_view_module": "@jupyter-widgets/base",
      "_view_module_version": "1.2.0",
      "_view_name": "LayoutView",
      "align_content": null,
      "align_items": null,
      "align_self": null,
      "border": null,
      "bottom": null,
      "display": null,
      "flex": null,
      "flex_flow": null,
      "grid_area": null,
      "grid_auto_columns": null,
      "grid_auto_flow": null,
      "grid_auto_rows": null,
      "grid_column": null,
      "grid_gap": null,
      "grid_row": null,
      "grid_template_areas": null,
      "grid_template_columns": null,
      "grid_template_rows": null,
      "height": null,
      "justify_content": null,
      "justify_items": null,
      "left": null,
      "margin": null,
      "max_height": null,
      "max_width": null,
      "min_height": null,
      "min_width": null,
      "object_fit": null,
      "object_position": null,
      "order": null,
      "overflow": null,
      "overflow_x": null,
      "overflow_y": null,
      "padding": null,
      "right": null,
      "top": null,
      "visibility": null,
      "width": null
     }
    },
    "ca9b7265986e4a10b6a1de258c3e5839": {
     "model_module": "@jupyter-widgets/controls",
     "model_module_version": "1.5.0",
     "model_name": "HTMLModel",
     "state": {
      "_dom_classes": [],
      "_model_module": "@jupyter-widgets/controls",
      "_model_module_version": "1.5.0",
      "_model_name": "HTMLModel",
      "_view_count": null,
      "_view_module": "@jupyter-widgets/controls",
      "_view_module_version": "1.5.0",
      "_view_name": "HTMLView",
      "description": "",
      "description_tooltip": null,
      "layout": "IPY_MODEL_af80cd0c6f1344839c6de546e3846bc6",
      "placeholder": "​",
      "style": "IPY_MODEL_4dcbfbae5e9b4e5b869a072d8717f616",
      "value": " 83.3M/83.3M [00:00&lt;00:00, 112MB/s]"
     }
    },
    "d9282da326f74723862ef0b93e54bf7b": {
     "model_module": "@jupyter-widgets/controls",
     "model_module_version": "1.5.0",
     "model_name": "ProgressStyleModel",
     "state": {
      "_model_module": "@jupyter-widgets/controls",
      "_model_module_version": "1.5.0",
      "_model_name": "ProgressStyleModel",
      "_view_count": null,
      "_view_module": "@jupyter-widgets/base",
      "_view_module_version": "1.2.0",
      "_view_name": "StyleView",
      "bar_color": null,
      "description_width": ""
     }
    },
    "ef931fb5018b482295c89851eeb3fd3d": {
     "model_module": "@jupyter-widgets/base",
     "model_module_version": "1.2.0",
     "model_name": "LayoutModel",
     "state": {
      "_model_module": "@jupyter-widgets/base",
      "_model_module_version": "1.2.0",
      "_model_name": "LayoutModel",
      "_view_count": null,
      "_view_module": "@jupyter-widgets/base",
      "_view_module_version": "1.2.0",
      "_view_name": "LayoutView",
      "align_content": null,
      "align_items": null,
      "align_self": null,
      "border": null,
      "bottom": null,
      "display": null,
      "flex": null,
      "flex_flow": null,
      "grid_area": null,
      "grid_auto_columns": null,
      "grid_auto_flow": null,
      "grid_auto_rows": null,
      "grid_column": null,
      "grid_gap": null,
      "grid_row": null,
      "grid_template_areas": null,
      "grid_template_columns": null,
      "grid_template_rows": null,
      "height": null,
      "justify_content": null,
      "justify_items": null,
      "left": null,
      "margin": null,
      "max_height": null,
      "max_width": null,
      "min_height": null,
      "min_width": null,
      "object_fit": null,
      "object_position": null,
      "order": null,
      "overflow": null,
      "overflow_x": null,
      "overflow_y": null,
      "padding": null,
      "right": null,
      "top": null,
      "visibility": null,
      "width": null
     }
    },
    "f0a7fc0bff5241c88128a015eff6a70a": {
     "model_module": "@jupyter-widgets/controls",
     "model_module_version": "1.5.0",
     "model_name": "HBoxModel",
     "state": {
      "_dom_classes": [],
      "_model_module": "@jupyter-widgets/controls",
      "_model_module_version": "1.5.0",
      "_model_name": "HBoxModel",
      "_view_count": null,
      "_view_module": "@jupyter-widgets/controls",
      "_view_module_version": "1.5.0",
      "_view_name": "HBoxView",
      "box_style": "",
      "children": [
       "IPY_MODEL_033c4f7691274a138460be8c208b08d6",
       "IPY_MODEL_9c91682b78e846c19d6fdf47ef094cf3",
       "IPY_MODEL_ca9b7265986e4a10b6a1de258c3e5839"
      ],
      "layout": "IPY_MODEL_2b6cbafff5ef46228eab598d9aaae15d"
     }
    }
   }
  }
 },
 "nbformat": 4,
 "nbformat_minor": 1
}
